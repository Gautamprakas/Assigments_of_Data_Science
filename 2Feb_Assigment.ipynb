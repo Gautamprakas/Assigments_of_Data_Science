{
 "cells": [
  {
   "cell_type": "code",
   "execution_count": null,
   "id": "82230758",
   "metadata": {},
   "outputs": [],
   "source": [
    "#Q1. Explain with an example each when to use a for loop and a while loop.\n",
    "#Answer-The main deifference between while loop and for loop is that while loop checks the condition first and if that condition is true\n",
    "#then the code of the while body is executed but in  for loop the condition is not checked first it first execute.\n",
    "#Example-\n",
    "x=1\n",
    "while x<10:\n",
    "    print(x)"
   ]
  },
  {
   "cell_type": "code",
   "execution_count": 77,
   "id": "81c88395",
   "metadata": {},
   "outputs": [
    {
     "name": "stdout",
     "output_type": "stream",
     "text": [
      "1\n",
      "2\n",
      "3\n",
      "4\n",
      "5\n",
      "6\n",
      "7\n",
      "8\n",
      "9\n",
      "10\n"
     ]
    }
   ],
   "source": [
    "#Print the first 10 natural no.\n",
    "for i in range(1,11):\n",
    "    print(i)"
   ]
  },
  {
   "cell_type": "code",
   "execution_count": 1,
   "id": "03c10cc9",
   "metadata": {},
   "outputs": [
    {
     "name": "stdout",
     "output_type": "stream",
     "text": [
      "55\n"
     ]
    }
   ],
   "source": [
    "# Q2. Write a python program to print the sum and product of the first 10 natural numbers using for\n",
    "# and while loop.\n",
    "\n",
    "\n",
    "#program to find sum of 10 natural no. using while loop\n",
    "x=10\n",
    "sum=0\n",
    "while x>0:\n",
    "    sum=sum+x\n",
    "    x=x-1\n",
    "print(sum)\n",
    "\n",
    "    "
   ]
  },
  {
   "cell_type": "code",
   "execution_count": 3,
   "id": "104502b7",
   "metadata": {},
   "outputs": [
    {
     "name": "stdout",
     "output_type": "stream",
     "text": [
      "55\n"
     ]
    }
   ],
   "source": [
    "#program to find sum of 10 natural no. using for loop\n",
    "x=10\n",
    "sum=0;\n",
    "for i in range(x+1):\n",
    "    sum=sum+i\n",
    "print(sum)\n"
   ]
  },
  {
   "cell_type": "code",
   "execution_count": 8,
   "id": "30845347",
   "metadata": {},
   "outputs": [
    {
     "name": "stdout",
     "output_type": "stream",
     "text": [
      "3628800\n"
     ]
    }
   ],
   "source": [
    "#program to find product of 10 natural no. using while loop\n",
    "x=10\n",
    "product=1:\n",
    "while x>0:\n",
    "    product=product*x\n",
    "    x-=1\n",
    "print(product)\n",
    "    "
   ]
  },
  {
   "cell_type": "code",
   "execution_count": null,
   "id": "14dfe26f",
   "metadata": {},
   "outputs": [],
   "source": [
    "# program to find product of 10 natural no. using for loop\n",
    "x=10\n",
    "product=1\n",
    "for i  in range(1,x+1):\n",
    "    product=product*i\n",
    "    x=x-1\n",
    "print(product)"
   ]
  },
  {
   "cell_type": "markdown",
   "id": "0410b09f",
   "metadata": {},
   "source": [
    "# Q3. Create a python program to compute the electricity bill for a household.\n",
    "The per-unit charges in rupees are as follows: For the first 100 units, the user will be charged Rs. 4.5 per\n",
    "unit, for the next 100 units, the user will be charged Rs. 6 per unit, and for the next 100 units, the user will\n",
    "be charged Rs. 10 per unit, After 300 units and above the user will be charged Rs. 20 per unit.\n",
    "You are required to take the units of electricity consumed in a month from the user as input.\n",
    "Your program must pass this test case: when the unit of electricity consumed by the user in a month is\n",
    "310, the total electricity bill should be 2250.\n"
   ]
  },
  {
   "cell_type": "code",
   "execution_count": 44,
   "id": "bddb5304",
   "metadata": {},
   "outputs": [
    {
     "name": "stdout",
     "output_type": "stream",
     "text": [
      "Enter the unit to be consumed 310\n",
      "2250\n"
     ]
    }
   ],
   "source": [
    "unit=int(input(\"Enter the unit to be consumed \"))\n",
    "cost=0\n",
    "if unit/300>=1:\n",
    "    cost=2050+(unit-300)*20\n",
    "    unit=0\n",
    "   \n",
    "elif unit/200>=1:\n",
    "    cost=1050+(unit-200)*10\n",
    "  \n",
    "    unit=0\n",
    "  \n",
    "elif unit/100>=1:\n",
    "    cost=450+(unit-100)*6\n",
    "    unit=0\n",
    "    \n",
    "else:\n",
    "    cost=unit*4.5\n",
    "\n",
    "print(cost)\n",
    "    \n",
    "    "
   ]
  },
  {
   "cell_type": "markdown",
   "id": "b2540269",
   "metadata": {},
   "source": [
    "Q4. Create a list of numbers from 1 to 100. Use for loop and while loop to calculate the cube of each\n",
    "number and if the cube of that number is divisible by 4 or 5 then append that number in a list and print\n",
    "that list."
   ]
  },
  {
   "cell_type": "code",
   "execution_count": 63,
   "id": "a83ff812",
   "metadata": {},
   "outputs": [
    {
     "data": {
      "text/plain": [
       "[8,\n",
       " 64,\n",
       " 125,\n",
       " 216,\n",
       " 512,\n",
       " 1000,\n",
       " 1728,\n",
       " 2744,\n",
       " 3375,\n",
       " 4096,\n",
       " 5832,\n",
       " 8000,\n",
       " 10648,\n",
       " 13824,\n",
       " 15625,\n",
       " 17576,\n",
       " 21952,\n",
       " 27000,\n",
       " 32768,\n",
       " 39304,\n",
       " 42875,\n",
       " 46656,\n",
       " 54872,\n",
       " 64000,\n",
       " 74088,\n",
       " 85184,\n",
       " 91125,\n",
       " 97336,\n",
       " 110592,\n",
       " 125000,\n",
       " 140608,\n",
       " 157464,\n",
       " 166375,\n",
       " 175616,\n",
       " 195112,\n",
       " 216000,\n",
       " 238328,\n",
       " 262144,\n",
       " 274625,\n",
       " 287496,\n",
       " 314432,\n",
       " 343000,\n",
       " 373248,\n",
       " 405224,\n",
       " 421875,\n",
       " 438976,\n",
       " 474552,\n",
       " 512000,\n",
       " 551368,\n",
       " 592704,\n",
       " 614125,\n",
       " 636056,\n",
       " 681472,\n",
       " 729000,\n",
       " 778688,\n",
       " 830584,\n",
       " 857375,\n",
       " 884736,\n",
       " 941192,\n",
       " 1000000]"
      ]
     },
     "execution_count": 63,
     "metadata": {},
     "output_type": "execute_result"
    }
   ],
   "source": [
    "#Using while loop and for loop\n",
    "l1=[]\n",
    "l2=[]\n",
    "i=1\n",
    "while i<=100:\n",
    "    l1.append(i)\n",
    "    i=i+1\n",
    "l1=[i*i*i for i in l1]\n",
    "for i in l1:\n",
    "    if i%4==0 or i%5==0:\n",
    "        l2.append(i)\n",
    "l2"
   ]
  },
  {
   "cell_type": "markdown",
   "id": "ee70b8d4",
   "metadata": {},
   "source": [
    "Q5. Write a program to filter count vowels in the below-given string.\n",
    "string = \"I want to become a data scientist\""
   ]
  },
  {
   "cell_type": "code",
   "execution_count": 74,
   "id": "7c82d8d4",
   "metadata": {},
   "outputs": [
    {
     "data": {
      "text/plain": [
       "' wnt t bcm  dt scntst'"
      ]
     },
     "execution_count": 74,
     "metadata": {},
     "output_type": "execute_result"
    }
   ],
   "source": [
    "string = \"I want to become a data scientist\"\n",
    "vowels=('a','e','i','o','u','A','E','I','O','U')\n",
    "for i in string:\n",
    "    for i in vowels:\n",
    "        string=string.replace(i,\"\")\n",
    "string"
   ]
  },
  {
   "cell_type": "code",
   "execution_count": null,
   "id": "56e828eb",
   "metadata": {},
   "outputs": [],
   "source": []
  },
  {
   "cell_type": "code",
   "execution_count": null,
   "id": "1c44d736",
   "metadata": {},
   "outputs": [],
   "source": []
  }
 ],
 "metadata": {
  "kernelspec": {
   "display_name": "Python 3 (ipykernel)",
   "language": "python",
   "name": "python3"
  },
  "language_info": {
   "codemirror_mode": {
    "name": "ipython",
    "version": 3
   },
   "file_extension": ".py",
   "mimetype": "text/x-python",
   "name": "python",
   "nbconvert_exporter": "python",
   "pygments_lexer": "ipython3",
   "version": "3.9.13"
  }
 },
 "nbformat": 4,
 "nbformat_minor": 5
}
