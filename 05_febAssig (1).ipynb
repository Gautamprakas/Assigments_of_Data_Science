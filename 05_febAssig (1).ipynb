{
 "cells": [
  {
   "cell_type": "code",
   "execution_count": 6,
   "id": "d1b51c20-40de-4e87-b3bc-46945a75accb",
   "metadata": {},
   "outputs": [
    {
     "name": "stdout",
     "output_type": "stream",
     "text": [
      "prakash\n"
     ]
    }
   ],
   "source": [
    "'''Q1. Explain Class and Object with respect to Object-Oriented Programming. Give a suitable example.'''\n",
    "'''Answer-Class is a blueprint of the object by the class we can create object in python we use Class keyword to create class \n",
    "And object is an instance of a class by the objects we can access the methods and variables of the classes.\n",
    "Example'''\n",
    "class A:\n",
    "    def test(self,x):\n",
    "        print(x)\n",
    "a=A()\n",
    "a.test(\"prakash\")"
   ]
  },
  {
   "cell_type": "code",
   "execution_count": null,
   "id": "c23ba392-99e8-4b0f-831e-43c26bb19db8",
   "metadata": {},
   "outputs": [],
   "source": [
    "'''Q2. Name the four pillars of OOPs\n",
    "Answer-1.Inheritance\n",
    "    2.Polymorphism\n",
    "    3.Abstraction\n",
    "    4.Encapsulaton'''\n"
   ]
  },
  {
   "cell_type": "code",
   "execution_count": 11,
   "id": "a8e0e7b7-78d6-4912-bd00-1d4068aed3e5",
   "metadata": {},
   "outputs": [],
   "source": [
    "'''Q3. Explain why the init() function is used. Give a suitable example.\n",
    "Answer- init() function is used to create a cunstructor of a class that will automatically assign the values when the object id created\n",
    "if the init() function takes some argument that is passed in class while object is created'''\n",
    "class A:\n",
    "    def __init__(self,x,y):\n",
    "        self.x=x\n",
    "        self.y=y\n",
    "    def return_details(self):\n",
    "        return self.x,self.y\n",
    "a=A(1,4)"
   ]
  },
  {
   "cell_type": "code",
   "execution_count": 12,
   "id": "110e3e72-d638-41c3-8e1c-b830ea455d6c",
   "metadata": {},
   "outputs": [
    {
     "data": {
      "text/plain": [
       "(1, 4)"
      ]
     },
     "execution_count": 12,
     "metadata": {},
     "output_type": "execute_result"
    }
   ],
   "source": [
    "a.return_details()"
   ]
  },
  {
   "cell_type": "code",
   "execution_count": null,
   "id": "54963a21-5a75-4cc1-b37c-67471cb412fd",
   "metadata": {},
   "outputs": [],
   "source": [
    "'''Q4. Why self is used in OOPs?\n",
    "Answere-The self is used to represent the instance of the class. With this keyword, you can access the\n",
    "attributes and methods of the class in python. It binds the attributes with the given arguments. \n",
    "The reason why we use self is that Python does not use the '@' syntax to refer to instance attributes'''"
   ]
  },
  {
   "cell_type": "code",
   "execution_count": 17,
   "id": "7f962584-8efe-4116-99b9-dfa9869e14ee",
   "metadata": {},
   "outputs": [],
   "source": [
    "'''Q5. What is inheritance? Give an example for each type of inheritance.\n",
    "Answer-In object-oriented programming, inheritance is the mechanism of basing an object or class upon another object or \n",
    "class, retaining similar implementation. Also defined as deriving new classes from existing ones such as super class or \n",
    "base class and then forming them into a hierarchy of classes'''\n",
    "class A:\n",
    "    def test1(self):\n",
    "        print(\"inside class A test1\")\n",
    "class B(A):\n",
    "    def test2(self):\n",
    "        print(\"inside B class tesr2()\")\n",
    "class C(A,B):\n",
    "    def test3(self):\n",
    "        print(\"inside C class test()\")\n",
    "class D(B):\n",
    "    def test4()"
   ]
  },
  {
   "cell_type": "code",
   "execution_count": 18,
   "id": "40c18b13-b6cc-4da3-ac15-84f433e258bb",
   "metadata": {},
   "outputs": [
    {
     "ename": "TypeError",
     "evalue": "Cannot create a consistent method resolution\norder (MRO) for bases A, B",
     "output_type": "error",
     "traceback": [
      "\u001b[0;31m---------------------------------------------------------------------------\u001b[0m",
      "\u001b[0;31mTypeError\u001b[0m                                 Traceback (most recent call last)",
      "Cell \u001b[0;32mIn[18], line 1\u001b[0m\n\u001b[0;32m----> 1\u001b[0m \u001b[38;5;28;01mclass\u001b[39;00m \u001b[38;5;21;01mC\u001b[39;00m(A,B):\n\u001b[1;32m      2\u001b[0m     \u001b[38;5;28;01mdef\u001b[39;00m \u001b[38;5;21mtest3\u001b[39m(\u001b[38;5;28mself\u001b[39m):\n\u001b[1;32m      3\u001b[0m         \u001b[38;5;28mprint\u001b[39m(\u001b[38;5;124m\"\u001b[39m\u001b[38;5;124minside C class test()\u001b[39m\u001b[38;5;124m\"\u001b[39m)\n",
      "\u001b[0;31mTypeError\u001b[0m: Cannot create a consistent method resolution\norder (MRO) for bases A, B"
     ]
    }
   ],
   "source": []
  },
  {
   "cell_type": "code",
   "execution_count": null,
   "id": "bbf76a5f-8907-49b1-9c2b-e1cd7c9f89d4",
   "metadata": {},
   "outputs": [],
   "source": []
  }
 ],
 "metadata": {
  "kernelspec": {
   "display_name": "Python 3 (ipykernel)",
   "language": "python",
   "name": "python3"
  },
  "language_info": {
   "codemirror_mode": {
    "name": "ipython",
    "version": 3
   },
   "file_extension": ".py",
   "mimetype": "text/x-python",
   "name": "python",
   "nbconvert_exporter": "python",
   "pygments_lexer": "ipython3",
   "version": "3.10.8"
  }
 },
 "nbformat": 4,
 "nbformat_minor": 5
}
