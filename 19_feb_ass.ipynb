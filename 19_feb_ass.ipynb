{
 "cells": [
  {
   "cell_type": "code",
   "execution_count": null,
   "id": "1116aabc-46ac-4c25-94b8-9fc9ef693c4f",
   "metadata": {},
   "outputs": [],
   "source": [
    "'''Q1. What is Flask Framework? What are the advantages of Flask Framework?\n",
    "Answer-Flask is a micro web framework written in Python. It is classified as a microframework because it\n",
    "does not require particular tools or libraries. It has no database abstraction layer, form validation, or\n",
    "any other components where pre-existing third-party libraries provide common functions.\n",
    "Advantage of Flask-Scalable. Size is everything, and Flask's status as a microframework means that you c\n",
    "an use it to grow a tech project such as a web app incredibly quickly. ...\n",
    "Flexible. ...\n",
    "Easy to negotiate. ...\n",
    "Lightweight. ...\n",
    "Documentation."
   ]
  },
  {
   "cell_type": "code",
   "execution_count": null,
   "id": "c7b3836f-ad43-42fb-aef8-e46487bae56e",
   "metadata": {},
   "outputs": [],
   "source": [
    "\n"
   ]
  },
  {
   "cell_type": "code",
   "execution_count": null,
   "id": "634b6ced-9505-4421-ae07-373265bf610a",
   "metadata": {},
   "outputs": [],
   "source": [
    "pip install flask"
   ]
  },
  {
   "cell_type": "code",
   "execution_count": null,
   "id": "a649b72f-79d9-47b0-8e90-6bffafee9800",
   "metadata": {},
   "outputs": [],
   "source": [
    "'''Q2. Create a simple Flask application to display ‘Hello World!!’. Attach the screenshot of the output in\n",
    "Jupyter Notebook.'''\n",
    "from flask import Flask\n",
    "application=Flask(__name__)\n",
    "app=application\n",
    "\n",
    "@app.route(\"/test1\")\n",
    "def print_hello():\n",
    "    return \"<h1>Hello word</h1>\"\n",
    "if __name__==\"__main__\":\n",
    "    app.run(host=\"0.0.0.0\")  \n",
    "    \n",
    "#Screenshot(35).png screenshot available here"
   ]
  },
  {
   "cell_type": "code",
   "execution_count": null,
   "id": "b807a02a-0963-4a41-a5c2-b38e9a62987b",
   "metadata": {},
   "outputs": [],
   "source": [
    "'''Q3. What is App routing in Flask? Why do we use app routes?\n",
    "Answer-App Routing means mapping the URLs to a specific function that will handle the logic for that URL.\n",
    "Modern web frameworks use more meaningful URLs to help users remember the URLs and make navigation simpler.\n",
    "Example: In our application, the URL (“/”) is associated with the root UR\n",
    "The route() decorator, @app. route() , binds a URL to a function. The output of the function \n",
    "hello_world() is shown in your browser."
   ]
  },
  {
   "cell_type": "code",
   "execution_count": null,
   "id": "3558c3db-c927-42ad-82a7-1fe38205ef17",
   "metadata": {},
   "outputs": [],
   "source": [
    "'''Q4. Create a “/welcome” route to display the welcome message “Welcome to ABC Corporation” and a “/”\n",
    "route to show the following details:\n",
    "Company Name: ABC Corporation\n",
    "Location: India\n",
    "Contact Detail: 999-999-9999\n",
    "#Check image Q4_Ans.png'''"
   ]
  },
  {
   "cell_type": "code",
   "execution_count": null,
   "id": "c3f493b6-b8d3-42e0-a7b0-b908ccd6e7f5",
   "metadata": {},
   "outputs": [],
   "source": [
    "'''Q5. What function is used in Flask for URL Building? Write a Python code to demonstrate the working of the\n",
    "url_for() function.\n",
    "The url_for() function is used to build a URL to the specific function dynamically. The first argument is the\n",
    "name of the specified function, and then we can pass any number of keyword argument corresponding to the \n",
    "variable part of the URL.'''\n",
    "from flask import *  \n",
    "   \n",
    "app = Flask(__name__)  \n",
    "  \n",
    "@app.route('/admin')  \n",
    "def admin():  \n",
    "    return 'admin'  \n",
    "  \n",
    "@app.route('/librarion')  \n",
    "def librarion():  \n",
    "    return 'librarion'  \n",
    "  \n",
    "@app.route('/student')  \n",
    "def student():  \n",
    "    return 'student'  \n",
    "  \n",
    "@app.route('/user/<name>')  \n",
    "def user(name):  \n",
    "    if name == 'admin':  \n",
    "        return redirect(url_for('admin'))  \n",
    "    if name == 'librarion':  \n",
    "        return redirect(url_for('librarion'))  \n",
    "    if name == 'student':  \n",
    "        return redirect(url_for('student'))  \n",
    "if __name__ =='__main__':  \n",
    "    app.run(debug = True)  \n"
   ]
  },
  {
   "cell_type": "code",
   "execution_count": null,
   "id": "d5f37d16-a3f4-4a00-9577-bbb5a269a000",
   "metadata": {},
   "outputs": [],
   "source": []
  }
 ],
 "metadata": {
  "kernelspec": {
   "display_name": "Python 3 (ipykernel)",
   "language": "python",
   "name": "python3"
  },
  "language_info": {
   "codemirror_mode": {
    "name": "ipython",
    "version": 3
   },
   "file_extension": ".py",
   "mimetype": "text/x-python",
   "name": "python",
   "nbconvert_exporter": "python",
   "pygments_lexer": "ipython3",
   "version": "3.10.8"
  }
 },
 "nbformat": 4,
 "nbformat_minor": 5
}
