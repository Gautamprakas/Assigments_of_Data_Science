{
 "cells": [
  {
   "cell_type": "code",
   "execution_count": null,
   "id": "a270970a-058a-46b0-9857-9c7c8e01292d",
   "metadata": {},
   "outputs": [],
   "source": [
    "'''Q1. What is the difference between Ordinal Encoding and Label Encoding? Provide an example of when you\n",
    "might choose one over the other.\n",
    "Answer-Ordinal encoding and label encoding are two techniques used for encoding categorical data.\n",
    "\n",
    "Ordinal encoding is a technique that assigns a unique integer value to each category in a feature based on the order\n",
    "or rank of the category. For example, in a feature with categories \"low\", \"medium\", and \"high\", we can assign integer \n",
    "values 1, 2, and 3 respectively. Ordinal encoding preserves the order of the categories, but does not necessarily provide\n",
    "any meaningful relationship between the assigned values.\n",
    "\n",
    "Label encoding, on the other hand, assigns a unique integer value to each category in a feature without any regard to the\n",
    "order or rank of the category. For example, in a feature with categories \"red\", \"green\", and \"blue\", we can assign integer\n",
    "values 1, 2, and 3 respectively. Label encoding does not preserve the order of the categories.\n",
    "\n",
    "When our categorical data is follow the rank or order of the values then it is useful to use the ordinal Encoding over Lablel\n",
    "Encoding but if our categorical data is not follows the order or ranking then it is useful to use Label Encoding in place of \n",
    "Ordinal Encoding.'''"
   ]
  },
  {
   "cell_type": "code",
   "execution_count": null,
   "id": "ec466a50-30fe-4ef5-97f1-74b7655ebb4b",
   "metadata": {},
   "outputs": [],
   "source": [
    "'''Q2. Explain how Target Guided Ordinal Encoding works and provide an example of when you might use it in\n",
    "a machine learning project.\n",
    "Answer-Target Guided Ordinal Encoding is a technique used to encode categorical variables in a way that is based on the \n",
    "relationship between the variable and the target variable. This technique can be particularly useful when the categorical \n",
    "variable has a high number of categories, and when we want to incorporate information about the target variable into the \n",
    "encoding process.\n",
    "\n",
    "The basic idea behind Target Guided Ordinal Encoding is to rank the categories of the categorical variable based on the \n",
    "target variable, and then replace the categories with the corresponding rank. This can be done by calculating the mean or \n",
    "median of the target variable for each category and then ranking the categories based on their mean or median value. The \n",
    "lowest ranked category is then replaced with the value 1, the second lowest with the value 2, and so on.\n",
    "\n",
    "Here is an example of how Target Guided Ordinal Encoding works in practice. Let's say we have a categorical variable \"city\"\n",
    "with four categories: New York, San Francisco, Boston, and Chicago. We also have a target variable \"salary\", which represents\n",
    "the annual salary of individuals living in each city. We want to encode the \"city\" variable in a way that takes into account \n",
    "the relationship between the city and the salary.\n",
    "\n",
    "We can use Target Guided Ordinal Encoding to rank the cities based on their mean salary. The mean salary for each city is as \n",
    "follows:\n",
    "\n",
    "New York: $100,000\n",
    "San Francisco: $120,000\n",
    "Boston: $90,000\n",
    "Chicago: $80,000\n",
    "Based on these values, we can assign the rank 1 to San Francisco (the city with the highest mean salary), rank 2 to New York,\n",
    "rank 3 to Boston, and rank 4 to Chicago. We can then replace the original categories with their corresponding ranks.\n",
    "\n",
    "Target Guided Ordinal Encoding can be useful in a machine learning project when we want to incorporate information about the \n",
    "target variable into the encoding process, especially when dealing with categorical variables with a high number of categories.''' This technique can help improve the predictive power of the model by encoding the variable in a way that takes into account the relationship between the variable and the target.\n",
    "\n",
    "\n",
    "\n"
   ]
  },
  {
   "cell_type": "code",
   "execution_count": null,
   "id": "67bf9f65-030a-43a5-b238-00acc34038c6",
   "metadata": {},
   "outputs": [],
   "source": [
    "'''Q3. Define covariance and explain why it is important in statistical analysis. How is covariance calculated?\n",
    "Answer-Covariance is a statistical measure that describes how two variables change in relation to each other. More \n",
    "specifically, it measures the degree to which two variables are linearly associated with each other. When two variables\n",
    "have a positive covariance, they tend to increase or decrease together, while two variables with a negative covariance tend \n",
    "to have an inverse relationship where one variable increases as the other decreases.\n",
    "\n",
    "Covariance is important in statistical analysis because it helps to identify the degree and direction of the relationship \n",
    "between two variables. It is commonly used in fields such as finance, economics, and social sciences to study the relationship\n",
    "between different variables, such as the relationship between stock prices and interest rates or the relationship between \n",
    "education level and income.\n",
    "\n",
    "The formula for calculating covariance between two variables X and Y can be expressed as:\n",
    "\n",
    "cov(X, Y) = Σ [(Xi - X̄)(Yi - Ȳ)] / (n - 1)\n",
    "\n",
    "where Xi and Yi are the individual values of X and Y, X̄ and Ȳ are the means of X and Y respectively, and n is the number of \n",
    "observations.\n",
    "\n",
    "The resulting covariance value can be positive, negative, or zero. A positive covariance indicates a direct relationship \n",
    "between the variables, meaning that as one variable increases, the other variable also tends to increase. A negative \n",
    "covariance indicates an inverse relationship, meaning that as one variable increases, the other variable tends to decrease.\n",
    "A covariance of zero indicates no relationship between the variables.\n",
    "\n",
    "However, covariance alone does not provide a complete picture of the relationship between two variables as it is affected by\n",
    "the scale of the variables. Therefore, it is often normalized by dividing it by the product of the standard deviations of the\n",
    "two variables to obtain the correlation coefficient. The resulting correlation coefficient has a value between -1 and 1, where\n",
    "a value of 1 indicates a perfect positive correlation, a value of -1 indicates a perfect negative correlation, and a value of\n",
    "0 indicates no correlation.'''"
   ]
  },
  {
   "cell_type": "code",
   "execution_count": 1,
   "id": "fe61ec4c-a84f-4029-a511-8aa29706a29b",
   "metadata": {},
   "outputs": [
    {
     "name": "stdout",
     "output_type": "stream",
     "text": [
      "   Color  Size  Material\n",
      "0      2     2         2\n",
      "1      1     0         0\n",
      "2      0     1         1\n",
      "3      0     2         1\n",
      "4      2     1         0\n",
      "5      1     0         2\n",
      "6      0     1         1\n"
     ]
    }
   ],
   "source": [
    "'''Q4. For a dataset with the following categorical variables: Color (red, green, blue), Size (small, medium,\n",
    "large), and Material (wood, metal, plastic), perform label encoding using Python's scikit-learn library.\n",
    "Show your code and explain the output.'''\n",
    "from sklearn.preprocessing import LabelEncoder\n",
    "import pandas as pd\n",
    "\n",
    "# Create a sample dataset\n",
    "data = {'Color': ['red', 'green', 'blue', 'blue', 'red', 'green', 'blue'],\n",
    "        'Size': ['small', 'large', 'medium', 'small', 'medium', 'large', 'medium'],\n",
    "        'Material': ['wood', 'metal', 'plastic', 'plastic', 'metal', 'wood', 'plastic']}\n",
    "\n",
    "df = pd.DataFrame(data)\n",
    "\n",
    "# Initialize LabelEncoder\n",
    "le = LabelEncoder()\n",
    "\n",
    "# Label encode categorical variables\n",
    "df['Color'] = le.fit_transform(df['Color'])\n",
    "df['Size'] = le.fit_transform(df['Size'])\n",
    "df['Material'] = le.fit_transform(df['Material'])\n",
    "\n",
    "print(df)\n"
   ]
  },
  {
   "cell_type": "code",
   "execution_count": 2,
   "id": "ea6f880b-ae1e-414c-956f-7e008d9672d2",
   "metadata": {},
   "outputs": [
    {
     "name": "stdout",
     "output_type": "stream",
     "text": [
      "Covariance Matrix:\n",
      " [[6.25e+01 1.25e+05 2.50e+01]\n",
      " [1.25e+05 2.50e+08 5.00e+04]\n",
      " [2.50e+01 5.00e+04 1.00e+01]]\n"
     ]
    }
   ],
   "source": [
    "'''Q5. Calculate the covariance matrix for the following variables in a dataset: Age, Income, and Education\n",
    "level. Interpret the results.'''\n",
    "import numpy as np\n",
    "\n",
    "# Create a sample dataset with Age, Income, and Education level\n",
    "age = [25, 30, 35, 40, 45]\n",
    "income = [50000, 60000, 70000, 80000, 90000]\n",
    "education_level = [12, 14, 16, 18, 20]\n",
    "\n",
    "# Calculate covariance matrix\n",
    "cov_matrix = np.cov([age, income, education_level])\n",
    "\n",
    "print(\"Covariance Matrix:\\n\", cov_matrix)\n"
   ]
  },
  {
   "cell_type": "code",
   "execution_count": null,
   "id": "cd7902ac-6b19-44b7-ac6e-900385358074",
   "metadata": {},
   "outputs": [],
   "source": [
    "'''Q6. You are working on a machine learning project with a dataset containing several categorical\n",
    "variables, including \"Gender\" (Male/Female), \"Education Level\" (High School/Bachelor's/Master's/PhD),\n",
    "and \"Employment Status\" (Unemployed/Part-Time/Full-Time). Which encoding method would you use for\n",
    "each variable, and why?\n",
    "Answer-For the categorical variable Gender we use Label Encoding because this variable does not havve any rank.\n",
    "For variable eduaction Level we use Ordinal Encoding because we can find that there is an order of these values\n",
    "like for the lower education we can give low value and for the Higher Education we can assign  high value.\n",
    "For the Employement Status we can use One Hot  Encoding because this variable does not have any rank or order.'''"
   ]
  },
  {
   "cell_type": "code",
   "execution_count": 3,
   "id": "145b3bfa-672e-49a0-b1d8-ac53eb0bc629",
   "metadata": {},
   "outputs": [
    {
     "name": "stdout",
     "output_type": "stream",
     "text": [
      "Covariance Matrix:\n",
      " [[ 7.3  21.25 -2.    0.95]\n",
      " [21.25 62.5  -6.25  2.5 ]\n",
      " [-2.   -6.25  1.   -0.5 ]\n",
      " [ 0.95  2.5  -0.5   1.3 ]]\n"
     ]
    }
   ],
   "source": [
    "'''Q7. You are analyzing a dataset with two continuous variables, \"Temperature\" and \"Humidity\", and two\n",
    "categorical variables, \"Weather Condition\" (Sunny/Cloudy/Rainy) and \"Wind Direction\" (North/South/\n",
    "East/West). Calculate the covariance between each pair of variables and interpret the results.'''\n",
    "import numpy as np\n",
    "\n",
    "# Example dataset\n",
    "temperature = [25, 28, 30, 32, 27]\n",
    "humidity = [50, 60, 65, 70, 55]\n",
    "weather_condition = ['Sunny', 'Cloudy', 'Rainy', 'Cloudy', 'Sunny']\n",
    "wind_direction = ['North', 'South', 'East', 'West', 'South']\n",
    "\n",
    "# Convert categorical variables to numerical using Label Encoding\n",
    "from sklearn.preprocessing import LabelEncoder\n",
    "weather_le = LabelEncoder()\n",
    "wind_le = LabelEncoder()\n",
    "weather_encoded = weather_le.fit_transform(weather_condition)\n",
    "wind_encoded = wind_le.fit_transform(wind_direction)\n",
    "\n",
    "# Calculate the covariance matrix\n",
    "data = np.array([temperature, humidity, weather_encoded, wind_encoded])\n",
    "covariance_matrix = np.cov(data)\n",
    "\n",
    "# Print the covariance matrix\n",
    "print(\"Covariance Matrix:\\n\", covariance_matrix)\n"
   ]
  },
  {
   "cell_type": "code",
   "execution_count": null,
   "id": "67295b00-dba0-4005-9a65-492c1fffd4b6",
   "metadata": {},
   "outputs": [],
   "source": []
  }
 ],
 "metadata": {
  "kernelspec": {
   "display_name": "Python 3 (ipykernel)",
   "language": "python",
   "name": "python3"
  },
  "language_info": {
   "codemirror_mode": {
    "name": "ipython",
    "version": 3
   },
   "file_extension": ".py",
   "mimetype": "text/x-python",
   "name": "python",
   "nbconvert_exporter": "python",
   "pygments_lexer": "ipython3",
   "version": "3.10.8"
  }
 },
 "nbformat": 4,
 "nbformat_minor": 5
}
