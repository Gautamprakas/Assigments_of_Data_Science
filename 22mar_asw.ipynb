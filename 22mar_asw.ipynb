{
 "cells": [
  {
   "cell_type": "code",
   "execution_count": 1,
   "id": "25c4e5d0-a6a1-4cdb-bcb0-b8bbd400c585",
   "metadata": {},
   "outputs": [
    {
     "name": "stdout",
     "output_type": "stream",
     "text": [
      "Pearson correlation coefficient: 0.9679107454061372\n",
      "p-value: 4.46266287914026e-06\n"
     ]
    }
   ],
   "source": [
    "'''Q1. Pearson correlation coefficient is a measure of the linear relationship between two variables. Suppose\n",
    "you have collected data on the amount of time students spend studying for an exam and their final exam\n",
    "scores. Calculate the Pearson correlation coefficient between these two variables and interpret the result.'''\n",
    "import scipy.stats as stats\n",
    "\n",
    "# Example data\n",
    "study_time = [5, 8, 4, 7, 6, 3, 5, 2, 9, 6]\n",
    "exam_score = [60, 75, 50, 80, 70, 45, 65, 40, 85, 70]\n",
    "\n",
    "# Calculate Pearson correlation coefficient\n",
    "corr_coef, p_value = stats.pearsonr(study_time, exam_score)\n",
    "\n",
    "# Print the correlation coefficient and p-value\n",
    "print(\"Pearson correlation coefficient:\", corr_coef)\n",
    "print(\"p-value:\", p_value)\n"
   ]
  },
  {
   "cell_type": "code",
   "execution_count": 4,
   "id": "f4d4c575-34a7-440c-a7c2-1b1298cfc876",
   "metadata": {},
   "outputs": [
    {
     "name": "stdout",
     "output_type": "stream",
     "text": [
      "Spearman's rank correlation coefficient: 0.889700583636793\n",
      "p-value: 0.0005657145853442575\n"
     ]
    }
   ],
   "source": [
    "'''Q2. Spearman's rank correlation is a measure of the monotonic relationship between two variables.\n",
    "Suppose you have collected data on the amount of sleep individuals get each night and their overall job\n",
    "satisfaction level on a scale of 1 to 10. Calculate the Spearman's rank correlation between these two\n",
    "variables and interpret the result.'''\n",
    "import scipy.stats as stats\n",
    "import numpy as np\n",
    "\n",
    "# Example data\n",
    "sleep = [7, 6, 8, 7, 5, 6, 7, 8, 9, 6]\n",
    "satisfaction = [8, 7, 9, 6, 5, 7, 8, 9, 10, 6]\n",
    "corr_coef, p_value = stats.spearmanr(sleep, satisfaction)\n",
    "\n",
    "# Print the correlation coefficient and p-value\n",
    "print(\"Spearman's rank correlation coefficient:\", corr_coef)\n",
    "print(\"p-value:\", p_value)"
   ]
  },
  {
   "cell_type": "code",
   "execution_count": 5,
   "id": "1fd808ba-ae93-4ade-af27-39ad91b03741",
   "metadata": {},
   "outputs": [
    {
     "name": "stdout",
     "output_type": "stream",
     "text": [
      "Pearson correlation coefficient: 0.9872608750643525\n",
      "Spearman's rank correlation coefficient: 0.9859071029748995\n"
     ]
    }
   ],
   "source": [
    "'''Q3. Suppose you are conducting a study to examine the relationship between the number of hours of\n",
    "exercise per week and body mass index (BMI) in a sample of adults. You collected data on both variables\n",
    "for 50 participants. Calculate the Pearson correlation coefficient and the Spearman's rank correlation\n",
    "between these two variables and compare the results.'''\n",
    "import numpy as np\n",
    "import scipy.stats as stats\n",
    "\n",
    "# Example data\n",
    "hours_of_exercise = np.array([3, 5, 2, 4, 6, 1, 3, 5, 7, 2,\n",
    "                              4, 6, 1, 3, 5, 2, 4, 6, 1, 3,\n",
    "                              5, 7, 2, 4, 6, 1, 3, 5, 2, 4,\n",
    "                              6, 1, 3, 5, 7, 2, 4, 6, 1, 3,\n",
    "                              5, 2, 4, 6, 1, 3, 5, 7, 2, 4])\n",
    "bmi = np.array([23.2, 25.4, 21.6, 24.8, 27.0, 20.0, 22.9, 25.1, 28.2, 20.5,\n",
    "                23.5, 26.2, 19.3, 22.3, 24.7, 21.1, 24.0, 26.6, 19.9, 22.8,\n",
    "                25.1, 27.9, 21.2, 24.2, 27.2, 19.8, 22.6, 25.0, 20.9, 23.9,\n",
    "                26.8, 19.5, 22.1, 24.5, 28.6, 21.4, 24.4, 27.5, 20.6, 23.6,\n",
    "                25.8, 21.3, 24.3, 26.9, 20.2, 23.1, 25.3, 28.1, 20.8, 23.8])\n",
    "\n",
    "# Calculate Pearson correlation coefficient\n",
    "pearson_coef, p_value = stats.pearsonr(hours_of_exercise, bmi)\n",
    "\n",
    "# Calculate Spearman's rank correlation coefficient\n",
    "spearman_coef, p_value = stats.spearmanr(hours_of_exercise, bmi)\n",
    "\n",
    "# Print the results\n",
    "print(\"Pearson correlation coefficient:\", pearson_coef)\n",
    "print(\"Spearman's rank correlation coefficient:\", spearman_coef)\n"
   ]
  },
  {
   "cell_type": "code",
   "execution_count": 10,
   "id": "0d3ee0e7-ba7f-40b5-86b0-670a741c10fb",
   "metadata": {},
   "outputs": [
    {
     "name": "stdout",
     "output_type": "stream",
     "text": [
      "50\n",
      "50\n",
      "0.9872608750643525 0.02528089356220871\n"
     ]
    }
   ],
   "source": [
    "'''Q4. A researcher is interested in examining the relationship between the number of hours individuals\n",
    "spend watching television per day and their level of physical activity. The researcher collected data on\n",
    "both variables from a sample of 50 participants. Calculate the Pearson correlation coefficient between\n",
    "these two variables.'''\n",
    "import numpy as np\n",
    "import scipy.stats as stat\n",
    "\n",
    "X = np.array([2, 3, 4, 5, 6, 7, 8, 9, 10, 11, 12, 13, 14, 15, 16, 17, 18, 19, 20, 21, 22, 23, 24, 25, 26, 27, 28, 29, 30, 31, 32, 33, 34, 35, 36, 37, 38, 39,41, 40, 41, 42, 43, 44, 45, 46, 47, 48, 49, 50])\n",
    "\n",
    "Y = np.array([3, 4, 4, 5, 5, 5, 5, 5, 6, 6, 6, 6, 6, 6, 7, 7, 7, 7, 7, 7, 7, 8, 8, 8, 8, 8, 9, 9, 9, 9, 10, 10, 10, 10, 10, 11, 11, 11, 11,10,12,11,8,7,6,5,4,3,2,1])\n",
    "\n",
    "             \n",
    "pearson,p_value=stat.pearsonr(X,Y)\n",
    "print(pearson_coef,p_value)"
   ]
  },
  {
   "cell_type": "code",
   "execution_count": 11,
   "id": "a6a005b9-3e6b-435a-aea5-91317d01e9de",
   "metadata": {},
   "outputs": [
    {
     "name": "stdout",
     "output_type": "stream",
     "text": [
      "          age     coke\n",
      "age   1.00000 -0.83724\n",
      "coke -0.83724  1.00000\n"
     ]
    }
   ],
   "source": [
    "'''Q5. A survey was conducted to examine the relationship between age and preference for a particular\n",
    "brand of soft drink. The survey results are shown below:'''\n",
    "import pandas as pd\n",
    "\n",
    "data = pd.DataFrame({\n",
    "    'age': [25, 42, 37, 19, 31, 28],\n",
    "    'coke': [1, 0, 0, 1, 0, 1],\n",
    "    'pepsi': [0, 1, 1, 0, 1, 0],\n",
    "    'mountain_dew': [0, 0, 0, 0, 0, 0]\n",
    "})\n",
    "\n",
    "pearson_corr = data[['age', 'coke']].corr(method='pearson')\n",
    "print(pearson_corr)\n",
    "\n"
   ]
  },
  {
   "cell_type": "code",
   "execution_count": 12,
   "id": "d59e6861-9d52-42a0-b405-c527b1afa955",
   "metadata": {},
   "outputs": [
    {
     "name": "stdout",
     "output_type": "stream",
     "text": [
      "0.9592792233508617\n"
     ]
    }
   ],
   "source": [
    "'''Q6. A company is interested in examining the relationship between the number of sales calls made per day\n",
    "and the number of sales made per week. The company collected data on both variables from a sample of\n",
    "30 sales representatives. Calculate the Pearson correlation coefficient between these two variables.'''\n",
    "import numpy as np\n",
    "\n",
    "x = [10, 12, 15, 20, 22, 25, 30, 35, 40, 45, 50, 55, 60, 65, 70, 75, 80, 85, 90, 95, 100, 105, 110, 115, 120, 125, 130, 135, 140, 145]\n",
    "y = [1, 1, 2, 2, 2, 2, 2, 2, 2, 2, 3, 3, 3, 3, 3, 3, 3, 3, 3, 4, 4, 4, 4, 4, 4, 4, 4, 5, 5, 5]\n",
    "\n",
    "r = np.corrcoef(x, y)[0, 1]\n",
    "print(r)\n"
   ]
  },
  {
   "cell_type": "code",
   "execution_count": null,
   "id": "79465763-4aca-4472-9d81-7380c4ef5264",
   "metadata": {},
   "outputs": [],
   "source": []
  }
 ],
 "metadata": {
  "kernelspec": {
   "display_name": "Python 3 (ipykernel)",
   "language": "python",
   "name": "python3"
  },
  "language_info": {
   "codemirror_mode": {
    "name": "ipython",
    "version": 3
   },
   "file_extension": ".py",
   "mimetype": "text/x-python",
   "name": "python",
   "nbconvert_exporter": "python",
   "pygments_lexer": "ipython3",
   "version": "3.10.8"
  }
 },
 "nbformat": 4,
 "nbformat_minor": 5
}
