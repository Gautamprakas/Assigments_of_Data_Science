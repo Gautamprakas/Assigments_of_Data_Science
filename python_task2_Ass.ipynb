{
 "cells": [
  {
   "cell_type": "code",
   "execution_count": 43,
   "id": "199aad26-a867-42b5-893f-7cbac242db04",
   "metadata": {},
   "outputs": [],
   "source": [
    "'''Q1. You are writing code for a company. The requirement of the company is that you create a python\n",
    "function that will check whether the password entered by the user is correct or not. The function should\n",
    "take the password as input and return the string “Valid Password” if the entered password follows the\n",
    "below-given password guidelines else it should return “Invalid Password”.\n",
    "Note: 1. The Password should contain at least two uppercase letters and at least two lowercase letters.\n",
    "2. The Password should contain at least a number and three special characters.\n",
    "3. The length of the password should be 10 characters long.'''\n",
    "\n",
    "\n",
    "import re\n",
    "def isValidPassword(password):\n",
    "    isUpper=0\n",
    "    isLower=0\n",
    "    special=0\n",
    "    num=0\n",
    "    special_string=\"[@_!#$%^&*()<>?/\\|}{~:]\"\n",
    "    for i in password:\n",
    "            if i.isnumeric():\n",
    "                num+=1\n",
    "            if i.isupper():\n",
    "                isUpper+=1\n",
    "            if i.islower():\n",
    "                isLower+=1\n",
    "    for i in special_string:\n",
    "        for j in password:\n",
    "            if j==i:\n",
    "                special+=1\n",
    "    if special>=3 and num>=1 and len(password)==10 and isUpper>=2 and isLower>=2:\n",
    "        return \"Valid Password\"\n",
    "    else:\n",
    "        return \"Invalid Password\"\n",
    "    \n",
    "        \n",
    "\n",
    "\n",
    "                \n",
    "        \n",
    "    \n",
    "                \n",
    "    \n"
   ]
  },
  {
   "cell_type": "code",
   "execution_count": 44,
   "id": "c1b4c79f-286f-4dca-bbd0-79c1e3500008",
   "metadata": {},
   "outputs": [
    {
     "name": "stdout",
     "output_type": "stream",
     "text": [
      "Valid Password\n"
     ]
    }
   ],
   "source": [
    "if __name__ == '__main__' :\n",
    "    print(isValidPassword(\"PRakas1@@@\"))"
   ]
  },
  {
   "cell_type": "code",
   "execution_count": null,
   "id": "953ead25-8d50-4f6c-905e-98e1951a7fdf",
   "metadata": {},
   "outputs": [],
   "source": [
    "'''Q2. Solve the below-given questions using at least one of the following:\n",
    "1. Lambda functioJ\n",
    "2. Filter functioJ\n",
    "3. Zap functioJ\n",
    "4. List ComprehensioI\n",
    "B Check if the string starts with a particular letter\n",
    "B Check if the string is numericY\n",
    "B Sort a list of tuples having fruit names and their quantity. [(\"mango\",99),(\"orange\",80), (\"grapes\", 1000)-\n",
    "B Find the squares of numbers from 1 to 10Y\n",
    "B Find the cube root of numbers from 1 to 10Y\n",
    "B Check if a given number is evenY\n",
    "B Filter odd numbers from the given list.\n",
    "[1,2,3,4,5,6,7,8,9,10-\n",
    "B Sort a list of integers into positive and negative integers lists.\n",
    "[1,2,3,4,5,6,-1,-2,-3,-4,-5,0]'''"
   ]
  },
  {
   "cell_type": "code",
   "execution_count": 54,
   "id": "ba82972f-b752-43e8-b36f-152212773ffd",
   "metadata": {},
   "outputs": [
    {
     "name": "stdout",
     "output_type": "stream",
     "text": [
      "True\n"
     ]
    }
   ],
   "source": [
    "string_check=lambda mystring,myLetter:True if mystring.startswith(myLetter) else False\n",
    "print(string_check(\"Prakash\",'P'))"
   ]
  },
  {
   "cell_type": "code",
   "execution_count": 59,
   "id": "9cea6f1e-79f0-4c08-addb-ff0e53f737c3",
   "metadata": {},
   "outputs": [],
   "source": [
    "#Check if the string is numericY\n",
    "\n",
    "isNumeric=lambda x:True if x.isdigit() else False\n"
   ]
  },
  {
   "cell_type": "code",
   "execution_count": 64,
   "id": "d9df50b9-9dfc-498c-874d-531441340128",
   "metadata": {},
   "outputs": [
    {
     "data": {
      "text/plain": [
       "True"
      ]
     },
     "execution_count": 64,
     "metadata": {},
     "output_type": "execute_result"
    }
   ],
   "source": [
    "isNumeric(\"10014557888\")"
   ]
  },
  {
   "cell_type": "code",
   "execution_count": 19,
   "id": "7b522f65-0eb8-43ed-9c24-63f4d7a83fbb",
   "metadata": {},
   "outputs": [
    {
     "data": {
      "text/plain": [
       "[('orange', 80), ('mango', 99), ('grapes', 1000)]"
      ]
     },
     "execution_count": 19,
     "metadata": {},
     "output_type": "execute_result"
    }
   ],
   "source": [
    "'''Sort a list of tuples having fruit names and their quantity. [(\"mango\",99),(\"orange\",80), (\"grapes\", 1000)]'''\n",
    "l= [(\"mango\",99),(\"orange\",80), (\"grapes\", 1000)]\n",
    "newList = sorted(l, key = lambda x : x[1])\n",
    "newList"
   ]
  },
  {
   "cell_type": "code",
   "execution_count": 7,
   "id": "32d6bf8c-0c16-4fc9-a2d6-d16f0a1e4222",
   "metadata": {},
   "outputs": [
    {
     "data": {
      "text/plain": [
       "[1, 4, 9, 16, 25, 36, 49, 64, 81, 100]"
      ]
     },
     "execution_count": 7,
     "metadata": {},
     "output_type": "execute_result"
    }
   ],
   "source": [
    "'''Find the squares of numbers from 1 to 10Y'''\n",
    "\n",
    "l=[1,2,3,4,5,6,7,8,9,10]\n",
    "x=map(lambda x:x*x,l)\n",
    "list(x)"
   ]
  },
  {
   "cell_type": "code",
   "execution_count": 8,
   "id": "07070942-884f-4fbd-a8af-daa29c7cc956",
   "metadata": {},
   "outputs": [
    {
     "data": {
      "text/plain": [
       "[1.0,\n",
       " 1.2599210498948732,\n",
       " 1.4422495703074083,\n",
       " 1.5874010519681994,\n",
       " 1.7099759466766968,\n",
       " 1.8171205928321397,\n",
       " 1.912931182772389,\n",
       " 2.0,\n",
       " 2.080083823051904,\n",
       " 2.154434690031884]"
      ]
     },
     "execution_count": 8,
     "metadata": {},
     "output_type": "execute_result"
    }
   ],
   "source": [
    "'''Find the cube root of numbers from 1 to 10'''\n",
    "import math\n",
    "l=[1,2,3,4,5,6,7,8,9,10]\n",
    "x=map(lambda x:math.pow(x,1/3),l)\n",
    "list(x)"
   ]
  },
  {
   "cell_type": "code",
   "execution_count": 14,
   "id": "5f075852-2653-4915-8302-a2f228b115fd",
   "metadata": {},
   "outputs": [
    {
     "data": {
      "text/plain": [
       "True"
      ]
     },
     "execution_count": 14,
     "metadata": {},
     "output_type": "execute_result"
    }
   ],
   "source": [
    "'''Check if a given number is evenY'''\n",
    "isEven=lambda x:True if x%2==0 else False\n",
    "isEven(1010)"
   ]
  },
  {
   "cell_type": "code",
   "execution_count": 16,
   "id": "4582779b-0a20-4b31-b4bf-1f0c47cc4a4e",
   "metadata": {},
   "outputs": [
    {
     "data": {
      "text/plain": [
       "[2, 4, 6, 8, 10]"
      ]
     },
     "execution_count": 16,
     "metadata": {},
     "output_type": "execute_result"
    }
   ],
   "source": [
    "'''Filter odd numbers from the given list.'''\n",
    "l=[1,2,3,4,5,6,7,8,9,10]\n",
    "x=filter(lambda x:x%2==0,l)\n",
    "list(x)"
   ]
  },
  {
   "cell_type": "code",
   "execution_count": 29,
   "id": "5a2102c0-204c-4374-bec0-5c999f054a2e",
   "metadata": {},
   "outputs": [
    {
     "data": {
      "text/plain": [
       "[-5, -4, -3, -2, -1, 0, 1, 2, 3, 4, 5, 6]"
      ]
     },
     "execution_count": 29,
     "metadata": {},
     "output_type": "execute_result"
    }
   ],
   "source": [
    "'''Sort a list of integers into positive and negative integers lists.\n",
    "[1,2,3,4,5,6,-1,-2,-3,-4,-5,0]'''\n",
    "l=[1,2,3,4,5,6,-1,-2,-3,-4,-5,0]\n",
    "l=sorted(l)\n",
    "l"
   ]
  },
  {
   "cell_type": "code",
   "execution_count": null,
   "id": "e1ebddbe-c2f9-44f2-a1d5-6b9567c9c8ed",
   "metadata": {},
   "outputs": [],
   "source": []
  }
 ],
 "metadata": {
  "kernelspec": {
   "display_name": "Python 3 (ipykernel)",
   "language": "python",
   "name": "python3"
  },
  "language_info": {
   "codemirror_mode": {
    "name": "ipython",
    "version": 3
   },
   "file_extension": ".py",
   "mimetype": "text/x-python",
   "name": "python",
   "nbconvert_exporter": "python",
   "pygments_lexer": "ipython3",
   "version": "3.10.8"
  }
 },
 "nbformat": 4,
 "nbformat_minor": 5
}
