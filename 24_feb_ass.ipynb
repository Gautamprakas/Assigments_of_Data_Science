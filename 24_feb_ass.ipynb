{
 "cells": [
  {
   "cell_type": "code",
   "execution_count": null,
   "id": "d10eb1fe-baa5-49f2-b511-044185cd7bcd",
   "metadata": {},
   "outputs": [],
   "source": [
    "'''Q1. List any five functions of the pandas library with execution.'''"
   ]
  },
  {
   "cell_type": "code",
   "execution_count": 4,
   "id": "cd49d20a-5f42-4b4f-9136-e9d09fc16a92",
   "metadata": {},
   "outputs": [],
   "source": [
    "import pandas as pd"
   ]
  },
  {
   "cell_type": "code",
   "execution_count": 5,
   "id": "4edf3457-03f2-4417-ade6-b0a74d95790d",
   "metadata": {},
   "outputs": [],
   "source": [
    "df=pd.DataFrame({\"Name\":[\"Prakash\",\"Ranjeet\",\"Sandeep\"],\"email\":[\"gauta@gmail.com\",\"Rk@gmail.com\",\"sk@gmail.com\"]})\n",
    "                                                                 "
   ]
  },
  {
   "cell_type": "code",
   "execution_count": 6,
   "id": "0eba782a-c1c3-4f67-b6f2-5c026f27dff7",
   "metadata": {},
   "outputs": [
    {
     "data": {
      "text/html": [
       "<div>\n",
       "<style scoped>\n",
       "    .dataframe tbody tr th:only-of-type {\n",
       "        vertical-align: middle;\n",
       "    }\n",
       "\n",
       "    .dataframe tbody tr th {\n",
       "        vertical-align: top;\n",
       "    }\n",
       "\n",
       "    .dataframe thead th {\n",
       "        text-align: right;\n",
       "    }\n",
       "</style>\n",
       "<table border=\"1\" class=\"dataframe\">\n",
       "  <thead>\n",
       "    <tr style=\"text-align: right;\">\n",
       "      <th></th>\n",
       "      <th>Name</th>\n",
       "      <th>email</th>\n",
       "    </tr>\n",
       "  </thead>\n",
       "  <tbody>\n",
       "    <tr>\n",
       "      <th>0</th>\n",
       "      <td>Prakash</td>\n",
       "      <td>gauta@gmail.com</td>\n",
       "    </tr>\n",
       "    <tr>\n",
       "      <th>1</th>\n",
       "      <td>Ranjeet</td>\n",
       "      <td>Rk@gmail.com</td>\n",
       "    </tr>\n",
       "    <tr>\n",
       "      <th>2</th>\n",
       "      <td>Sandeep</td>\n",
       "      <td>sk@gmail.com</td>\n",
       "    </tr>\n",
       "  </tbody>\n",
       "</table>\n",
       "</div>"
      ],
      "text/plain": [
       "      Name            email\n",
       "0  Prakash  gauta@gmail.com\n",
       "1  Ranjeet     Rk@gmail.com\n",
       "2  Sandeep     sk@gmail.com"
      ]
     },
     "execution_count": 6,
     "metadata": {},
     "output_type": "execute_result"
    }
   ],
   "source": [
    "df.head()"
   ]
  },
  {
   "cell_type": "code",
   "execution_count": 7,
   "id": "7cdadcd2-6b35-4bdf-9f8c-10c6270cca86",
   "metadata": {},
   "outputs": [
    {
     "data": {
      "text/html": [
       "<div>\n",
       "<style scoped>\n",
       "    .dataframe tbody tr th:only-of-type {\n",
       "        vertical-align: middle;\n",
       "    }\n",
       "\n",
       "    .dataframe tbody tr th {\n",
       "        vertical-align: top;\n",
       "    }\n",
       "\n",
       "    .dataframe thead th {\n",
       "        text-align: right;\n",
       "    }\n",
       "</style>\n",
       "<table border=\"1\" class=\"dataframe\">\n",
       "  <thead>\n",
       "    <tr style=\"text-align: right;\">\n",
       "      <th></th>\n",
       "      <th>Name</th>\n",
       "      <th>email</th>\n",
       "    </tr>\n",
       "  </thead>\n",
       "  <tbody>\n",
       "    <tr>\n",
       "      <th>0</th>\n",
       "      <td>Prakash</td>\n",
       "      <td>gauta@gmail.com</td>\n",
       "    </tr>\n",
       "    <tr>\n",
       "      <th>1</th>\n",
       "      <td>Ranjeet</td>\n",
       "      <td>Rk@gmail.com</td>\n",
       "    </tr>\n",
       "    <tr>\n",
       "      <th>2</th>\n",
       "      <td>Sandeep</td>\n",
       "      <td>sk@gmail.com</td>\n",
       "    </tr>\n",
       "  </tbody>\n",
       "</table>\n",
       "</div>"
      ],
      "text/plain": [
       "      Name            email\n",
       "0  Prakash  gauta@gmail.com\n",
       "1  Ranjeet     Rk@gmail.com\n",
       "2  Sandeep     sk@gmail.com"
      ]
     },
     "execution_count": 7,
     "metadata": {},
     "output_type": "execute_result"
    }
   ],
   "source": [
    "df.tail()"
   ]
  },
  {
   "cell_type": "code",
   "execution_count": 8,
   "id": "a5a2a036-68a4-4e78-8a5f-b082d8f127a4",
   "metadata": {},
   "outputs": [],
   "source": [
    "df.to_csv(\"my_csv.csv\")"
   ]
  },
  {
   "cell_type": "code",
   "execution_count": 9,
   "id": "7a834ddd-2cb2-4501-8189-6ef63e953bde",
   "metadata": {},
   "outputs": [
    {
     "data": {
      "text/plain": [
       "Index(['Name', 'email'], dtype='object')"
      ]
     },
     "execution_count": 9,
     "metadata": {},
     "output_type": "execute_result"
    }
   ],
   "source": [
    "df.columns"
   ]
  },
  {
   "cell_type": "code",
   "execution_count": 10,
   "id": "b2a1fbce-ecc8-474e-affb-2bfdecf2ca8d",
   "metadata": {},
   "outputs": [
    {
     "data": {
      "text/html": [
       "<div>\n",
       "<style scoped>\n",
       "    .dataframe tbody tr th:only-of-type {\n",
       "        vertical-align: middle;\n",
       "    }\n",
       "\n",
       "    .dataframe tbody tr th {\n",
       "        vertical-align: top;\n",
       "    }\n",
       "\n",
       "    .dataframe thead th {\n",
       "        text-align: right;\n",
       "    }\n",
       "</style>\n",
       "<table border=\"1\" class=\"dataframe\">\n",
       "  <thead>\n",
       "    <tr style=\"text-align: right;\">\n",
       "      <th></th>\n",
       "      <th>Name</th>\n",
       "      <th>email</th>\n",
       "    </tr>\n",
       "  </thead>\n",
       "  <tbody>\n",
       "    <tr>\n",
       "      <th>count</th>\n",
       "      <td>3</td>\n",
       "      <td>3</td>\n",
       "    </tr>\n",
       "    <tr>\n",
       "      <th>unique</th>\n",
       "      <td>3</td>\n",
       "      <td>3</td>\n",
       "    </tr>\n",
       "    <tr>\n",
       "      <th>top</th>\n",
       "      <td>Prakash</td>\n",
       "      <td>gauta@gmail.com</td>\n",
       "    </tr>\n",
       "    <tr>\n",
       "      <th>freq</th>\n",
       "      <td>1</td>\n",
       "      <td>1</td>\n",
       "    </tr>\n",
       "  </tbody>\n",
       "</table>\n",
       "</div>"
      ],
      "text/plain": [
       "           Name            email\n",
       "count         3                3\n",
       "unique        3                3\n",
       "top     Prakash  gauta@gmail.com\n",
       "freq          1                1"
      ]
     },
     "execution_count": 10,
     "metadata": {},
     "output_type": "execute_result"
    }
   ],
   "source": [
    "df.describe()"
   ]
  },
  {
   "cell_type": "code",
   "execution_count": 11,
   "id": "3cf3d126-2096-4102-8c16-2b59c26a39b6",
   "metadata": {},
   "outputs": [
    {
     "data": {
      "text/html": [
       "<div>\n",
       "<style scoped>\n",
       "    .dataframe tbody tr th:only-of-type {\n",
       "        vertical-align: middle;\n",
       "    }\n",
       "\n",
       "    .dataframe tbody tr th {\n",
       "        vertical-align: top;\n",
       "    }\n",
       "\n",
       "    .dataframe thead th {\n",
       "        text-align: right;\n",
       "    }\n",
       "</style>\n",
       "<table border=\"1\" class=\"dataframe\">\n",
       "  <thead>\n",
       "    <tr style=\"text-align: right;\">\n",
       "      <th></th>\n",
       "      <th>A</th>\n",
       "      <th>B</th>\n",
       "      <th>C</th>\n",
       "    </tr>\n",
       "    <tr>\n",
       "      <th>index</th>\n",
       "      <th></th>\n",
       "      <th></th>\n",
       "      <th></th>\n",
       "    </tr>\n",
       "  </thead>\n",
       "  <tbody>\n",
       "    <tr>\n",
       "      <th>1</th>\n",
       "      <td>1</td>\n",
       "      <td>1</td>\n",
       "      <td>1</td>\n",
       "    </tr>\n",
       "    <tr>\n",
       "      <th>3</th>\n",
       "      <td>2</td>\n",
       "      <td>2</td>\n",
       "      <td>2</td>\n",
       "    </tr>\n",
       "    <tr>\n",
       "      <th>5</th>\n",
       "      <td>3</td>\n",
       "      <td>3</td>\n",
       "      <td>3</td>\n",
       "    </tr>\n",
       "    <tr>\n",
       "      <th>7</th>\n",
       "      <td>4</td>\n",
       "      <td>4</td>\n",
       "      <td>4</td>\n",
       "    </tr>\n",
       "    <tr>\n",
       "      <th>9</th>\n",
       "      <td>5</td>\n",
       "      <td>5</td>\n",
       "      <td>5</td>\n",
       "    </tr>\n",
       "    <tr>\n",
       "      <th>11</th>\n",
       "      <td>6</td>\n",
       "      <td>6</td>\n",
       "      <td>6</td>\n",
       "    </tr>\n",
       "    <tr>\n",
       "      <th>13</th>\n",
       "      <td>7</td>\n",
       "      <td>7</td>\n",
       "      <td>7</td>\n",
       "    </tr>\n",
       "    <tr>\n",
       "      <th>15</th>\n",
       "      <td>8</td>\n",
       "      <td>8</td>\n",
       "      <td>8</td>\n",
       "    </tr>\n",
       "    <tr>\n",
       "      <th>17</th>\n",
       "      <td>9</td>\n",
       "      <td>9</td>\n",
       "      <td>9</td>\n",
       "    </tr>\n",
       "    <tr>\n",
       "      <th>19</th>\n",
       "      <td>10</td>\n",
       "      <td>10</td>\n",
       "      <td>10</td>\n",
       "    </tr>\n",
       "  </tbody>\n",
       "</table>\n",
       "</div>"
      ],
      "text/plain": [
       "        A   B   C\n",
       "index            \n",
       "1       1   1   1\n",
       "3       2   2   2\n",
       "5       3   3   3\n",
       "7       4   4   4\n",
       "9       5   5   5\n",
       "11      6   6   6\n",
       "13      7   7   7\n",
       "15      8   8   8\n",
       "17      9   9   9\n",
       "19     10  10  10"
      ]
     },
     "execution_count": 11,
     "metadata": {},
     "output_type": "execute_result"
    }
   ],
   "source": [
    "'''Q2. Given a Pandas DataFrame df with columns 'A', 'B', and 'C', write a Python function to re-index the\n",
    "DataFrame with a new index that starts from 1 and increments by 2 for each row.'''\n",
    "l=[i for i in range (1,11)]\n",
    "b=[i for i in range (1,11)]\n",
    "df=pd.DataFrame({\"A\":l,\"B\":b,\"C\":[i for i in range (1,11)]})\n",
    "index=[i for i in range(1,21,2)]\n",
    "df['index']=index\n",
    "df.set_index('index')"
   ]
  },
  {
   "cell_type": "code",
   "execution_count": 12,
   "id": "f41b3943-02a7-4336-b5ac-5c19902e6460",
   "metadata": {},
   "outputs": [
    {
     "name": "stdout",
     "output_type": "stream",
     "text": [
      "60\n"
     ]
    },
    {
     "data": {
      "text/plain": [
       "Values    None\n",
       "dtype: object"
      ]
     },
     "execution_count": 12,
     "metadata": {},
     "output_type": "execute_result"
    }
   ],
   "source": [
    "'''Q3. You have a Pandas DataFrame df with a column named 'Values'. Write a Python function that\n",
    "iterates over the DataFrame and calculates the sum of the first three values in the 'Values' column. The\n",
    "function should print the sum to the console.\n",
    "For example, if the 'Values' column of df contains the values [10, 20, 30, 40, 50], your function should\n",
    "calculate and print the sum of the first three values, which is 60.'''\n",
    "\n",
    "def sumValues(x):\n",
    "    sum=x.sum()\n",
    "    print(int(sum))\n",
    "\n",
    "df=pd.DataFrame({\"Values\":[10,20,30,40,50]})\n",
    "new_df=pd.DataFrame(df['Values'][0:3])\n",
    "new_df.apply(sumValues)\n"
   ]
  },
  {
   "cell_type": "code",
   "execution_count": 13,
   "id": "d4e6f827-bf49-48db-809b-a0f62bf91943",
   "metadata": {},
   "outputs": [
    {
     "data": {
      "text/html": [
       "<div>\n",
       "<style scoped>\n",
       "    .dataframe tbody tr th:only-of-type {\n",
       "        vertical-align: middle;\n",
       "    }\n",
       "\n",
       "    .dataframe tbody tr th {\n",
       "        vertical-align: top;\n",
       "    }\n",
       "\n",
       "    .dataframe thead th {\n",
       "        text-align: right;\n",
       "    }\n",
       "</style>\n",
       "<table border=\"1\" class=\"dataframe\">\n",
       "  <thead>\n",
       "    <tr style=\"text-align: right;\">\n",
       "      <th></th>\n",
       "      <th>Text</th>\n",
       "      <th>Word_Count</th>\n",
       "    </tr>\n",
       "  </thead>\n",
       "  <tbody>\n",
       "    <tr>\n",
       "      <th>0</th>\n",
       "      <td>My name is Prakash gautam</td>\n",
       "      <td>5</td>\n",
       "    </tr>\n",
       "    <tr>\n",
       "      <th>1</th>\n",
       "      <td>WHat is your name?</td>\n",
       "      <td>4</td>\n",
       "    </tr>\n",
       "    <tr>\n",
       "      <th>2</th>\n",
       "      <td>I am from Data Science batch</td>\n",
       "      <td>6</td>\n",
       "    </tr>\n",
       "  </tbody>\n",
       "</table>\n",
       "</div>"
      ],
      "text/plain": [
       "                           Text  Word_Count\n",
       "0     My name is Prakash gautam           5\n",
       "1            WHat is your name?           4\n",
       "2  I am from Data Science batch           6"
      ]
     },
     "execution_count": 13,
     "metadata": {},
     "output_type": "execute_result"
    }
   ],
   "source": [
    "'''Q4. Given a Pandas DataFrame df with a column 'Text', write a Python function to create a new column\n",
    "'Word_Count' that contains the number of words in each row of the 'Text' column.'''\n",
    "df=pd.DataFrame({\"Text\":[\"My name is Prakash gautam\",\"WHat is your name?\",\"I am from Data Science batch\"]})\n",
    "def wordcount(x):\n",
    "    st=x.split(\" \")\n",
    "    return len(st)\n",
    "df['Word_Count']=df['Text'].apply(wordcount)\n",
    "df"
   ]
  },
  {
   "cell_type": "code",
   "execution_count": 17,
   "id": "1e655026-3b25-4f83-8525-438fe2b27d97",
   "metadata": {},
   "outputs": [
    {
     "name": "stdout",
     "output_type": "stream",
     "text": [
      "The size of the dataframe is 6\n",
      "The shape of the dataframe is (3, 2)\n"
     ]
    }
   ],
   "source": [
    "'''Q5. How are DataFrame.size() and DataFrame.shape() different?\n",
    "Answer-DataFrame.size() returns the total  no. of elements in the dataframe while DataFrame.shape() returns the numbser of rows\n",
    "and columns in the dataframe.'''\n",
    "print(\"The size of the dataframe is\",df.size)\n",
    "print(\"The shape of the dataframe is\",df.shape)\n"
   ]
  },
  {
   "cell_type": "code",
   "execution_count": null,
   "id": "76ac71f9-3daf-4220-8653-341a0d966712",
   "metadata": {},
   "outputs": [],
   "source": [
    "'''Q6. Which function of pandas do we use to read an excel file?\n",
    "Anser-pd.read_excel(\"file name\") this function is used to read excel files an pandas'''"
   ]
  },
  {
   "cell_type": "code",
   "execution_count": null,
   "id": "ae0b0a16-40a9-4bbc-9adc-15537b91a319",
   "metadata": {},
   "outputs": [],
   "source": [
    "'''Q7. You have a Pandas DataFrame df that contains a column named 'Email' that contains email\n",
    "addresses in the format 'username@domain.com'. Write a Python function that creates a new column\n",
    "'Username' in df that contains only the username part of each email address.\n",
    "The username is the part of the email address that appears before the '@' symbol. For example, if the\n",
    "email address is 'john.doe@example.com', the 'Username' column should contain 'john.doe'. Your\n",
    "function should extract the username from each email address and store it in the new 'Username'\n",
    "column."
   ]
  },
  {
   "cell_type": "code",
   "execution_count": 23,
   "id": "82dd0f27-cff4-4fcd-a3f3-14539afe40ba",
   "metadata": {},
   "outputs": [
    {
     "data": {
      "text/html": [
       "<div>\n",
       "<style scoped>\n",
       "    .dataframe tbody tr th:only-of-type {\n",
       "        vertical-align: middle;\n",
       "    }\n",
       "\n",
       "    .dataframe tbody tr th {\n",
       "        vertical-align: top;\n",
       "    }\n",
       "\n",
       "    .dataframe thead th {\n",
       "        text-align: right;\n",
       "    }\n",
       "</style>\n",
       "<table border=\"1\" class=\"dataframe\">\n",
       "  <thead>\n",
       "    <tr style=\"text-align: right;\">\n",
       "      <th></th>\n",
       "      <th>Email</th>\n",
       "    </tr>\n",
       "  </thead>\n",
       "  <tbody>\n",
       "    <tr>\n",
       "      <th>0</th>\n",
       "      <td>gautam.prakash@gmail.com</td>\n",
       "    </tr>\n",
       "    <tr>\n",
       "      <th>1</th>\n",
       "      <td>prakashRangmail.com</td>\n",
       "    </tr>\n",
       "    <tr>\n",
       "      <th>2</th>\n",
       "      <td>skalpi@gmail.com</td>\n",
       "    </tr>\n",
       "    <tr>\n",
       "      <th>3</th>\n",
       "      <td>john.doe@example.com</td>\n",
       "    </tr>\n",
       "  </tbody>\n",
       "</table>\n",
       "</div>"
      ],
      "text/plain": [
       "                      Email\n",
       "0  gautam.prakash@gmail.com\n",
       "1       prakashRangmail.com\n",
       "2          skalpi@gmail.com\n",
       "3      john.doe@example.com"
      ]
     },
     "execution_count": 23,
     "metadata": {},
     "output_type": "execute_result"
    }
   ],
   "source": [
    "import pandas as pd\n",
    "df=pd.DataFrame({\"Email\":[\"gautam.prakash@gmail.com\",\"prakashRangmail.com\",\"skalpi@gmail.com\",\"john.doe@example.com\"]})\n",
    "df"
   ]
  },
  {
   "cell_type": "code",
   "execution_count": 26,
   "id": "9a711d46-4590-492f-bd95-f01e8a15ea25",
   "metadata": {},
   "outputs": [
    {
     "data": {
      "text/html": [
       "<div>\n",
       "<style scoped>\n",
       "    .dataframe tbody tr th:only-of-type {\n",
       "        vertical-align: middle;\n",
       "    }\n",
       "\n",
       "    .dataframe tbody tr th {\n",
       "        vertical-align: top;\n",
       "    }\n",
       "\n",
       "    .dataframe thead th {\n",
       "        text-align: right;\n",
       "    }\n",
       "</style>\n",
       "<table border=\"1\" class=\"dataframe\">\n",
       "  <thead>\n",
       "    <tr style=\"text-align: right;\">\n",
       "      <th></th>\n",
       "      <th>Email</th>\n",
       "      <th>Username</th>\n",
       "    </tr>\n",
       "  </thead>\n",
       "  <tbody>\n",
       "    <tr>\n",
       "      <th>0</th>\n",
       "      <td>gautam.prakash@gmail.com</td>\n",
       "      <td>gautam.prakash</td>\n",
       "    </tr>\n",
       "    <tr>\n",
       "      <th>1</th>\n",
       "      <td>prakashRangmail.com</td>\n",
       "      <td>prakashRangmail.com</td>\n",
       "    </tr>\n",
       "    <tr>\n",
       "      <th>2</th>\n",
       "      <td>skalpi@gmail.com</td>\n",
       "      <td>skalpi</td>\n",
       "    </tr>\n",
       "    <tr>\n",
       "      <th>3</th>\n",
       "      <td>john.doe@example.com</td>\n",
       "      <td>john.doe</td>\n",
       "    </tr>\n",
       "  </tbody>\n",
       "</table>\n",
       "</div>"
      ],
      "text/plain": [
       "                      Email             Username\n",
       "0  gautam.prakash@gmail.com       gautam.prakash\n",
       "1       prakashRangmail.com  prakashRangmail.com\n",
       "2          skalpi@gmail.com               skalpi\n",
       "3      john.doe@example.com             john.doe"
      ]
     },
     "execution_count": 26,
     "metadata": {},
     "output_type": "execute_result"
    }
   ],
   "source": [
    "def userName(x):\n",
    "    l=x.split(\"@\")\n",
    "    user=l[0]\n",
    "    return user\n",
    "df['Username']=df['Email'].apply(userName)\n",
    "df"
   ]
  },
  {
   "cell_type": "code",
   "execution_count": 22,
   "id": "d08fe192-b628-46a7-8ee0-d8c238c0aff1",
   "metadata": {},
   "outputs": [
    {
     "data": {
      "text/html": [
       "<div>\n",
       "<style scoped>\n",
       "    .dataframe tbody tr th:only-of-type {\n",
       "        vertical-align: middle;\n",
       "    }\n",
       "\n",
       "    .dataframe tbody tr th {\n",
       "        vertical-align: top;\n",
       "    }\n",
       "\n",
       "    .dataframe thead th {\n",
       "        text-align: right;\n",
       "    }\n",
       "</style>\n",
       "<table border=\"1\" class=\"dataframe\">\n",
       "  <thead>\n",
       "    <tr style=\"text-align: right;\">\n",
       "      <th></th>\n",
       "      <th>A</th>\n",
       "      <th>B</th>\n",
       "      <th>C</th>\n",
       "    </tr>\n",
       "  </thead>\n",
       "  <tbody>\n",
       "    <tr>\n",
       "      <th>1</th>\n",
       "      <td>8</td>\n",
       "      <td>2</td>\n",
       "      <td>7</td>\n",
       "    </tr>\n",
       "    <tr>\n",
       "      <th>2</th>\n",
       "      <td>6</td>\n",
       "      <td>9</td>\n",
       "      <td>4</td>\n",
       "    </tr>\n",
       "    <tr>\n",
       "      <th>4</th>\n",
       "      <td>9</td>\n",
       "      <td>1</td>\n",
       "      <td>2</td>\n",
       "    </tr>\n",
       "  </tbody>\n",
       "</table>\n",
       "</div>"
      ],
      "text/plain": [
       "   A  B  C\n",
       "1  8  2  7\n",
       "2  6  9  4\n",
       "4  9  1  2"
      ]
     },
     "execution_count": 22,
     "metadata": {},
     "output_type": "execute_result"
    }
   ],
   "source": [
    "'''Q8. You have a Pandas DataFrame df with columns 'A', 'B', and 'C'. Write a Python function that selects\n",
    "all rows where the value in column 'A' is greater than 5 and the value in column 'B' is less than 10. The\n",
    "function should return a new DataFrame that contains only the selected rows.'''\n",
    "import pandas as pd\n",
    "df=pd.read_csv(\"24feb.txt\")\n",
    "def value_checker(x):\n",
    "    y=x[(x['A']>5) & (x['B']<10)]\n",
    "    return y\n",
    "value_checker(df)"
   ]
  },
  {
   "cell_type": "code",
   "execution_count": 80,
   "id": "2db10214-3a0a-4a42-8135-d8b0c073330b",
   "metadata": {},
   "outputs": [],
   "source": [
    "import math\n",
    "import numpy as np"
   ]
  },
  {
   "cell_type": "code",
   "execution_count": 57,
   "id": "59d9f216-9706-4eb1-b3f2-5195982b296f",
   "metadata": {},
   "outputs": [
    {
     "data": {
      "text/html": [
       "<div>\n",
       "<style scoped>\n",
       "    .dataframe tbody tr th:only-of-type {\n",
       "        vertical-align: middle;\n",
       "    }\n",
       "\n",
       "    .dataframe tbody tr th {\n",
       "        vertical-align: top;\n",
       "    }\n",
       "\n",
       "    .dataframe thead th {\n",
       "        text-align: right;\n",
       "    }\n",
       "</style>\n",
       "<table border=\"1\" class=\"dataframe\">\n",
       "  <thead>\n",
       "    <tr style=\"text-align: right;\">\n",
       "      <th></th>\n",
       "      <th>Values</th>\n",
       "    </tr>\n",
       "  </thead>\n",
       "  <tbody>\n",
       "    <tr>\n",
       "      <th>0</th>\n",
       "      <td>1</td>\n",
       "    </tr>\n",
       "    <tr>\n",
       "      <th>1</th>\n",
       "      <td>2</td>\n",
       "    </tr>\n",
       "    <tr>\n",
       "      <th>2</th>\n",
       "      <td>3</td>\n",
       "    </tr>\n",
       "    <tr>\n",
       "      <th>3</th>\n",
       "      <td>5</td>\n",
       "    </tr>\n",
       "    <tr>\n",
       "      <th>4</th>\n",
       "      <td>4</td>\n",
       "    </tr>\n",
       "    <tr>\n",
       "      <th>5</th>\n",
       "      <td>6</td>\n",
       "    </tr>\n",
       "    <tr>\n",
       "      <th>6</th>\n",
       "      <td>7</td>\n",
       "    </tr>\n",
       "    <tr>\n",
       "      <th>7</th>\n",
       "      <td>8</td>\n",
       "    </tr>\n",
       "  </tbody>\n",
       "</table>\n",
       "</div>"
      ],
      "text/plain": [
       "   Values\n",
       "0       1\n",
       "1       2\n",
       "2       3\n",
       "3       5\n",
       "4       4\n",
       "5       6\n",
       "6       7\n",
       "7       8"
      ]
     },
     "execution_count": 57,
     "metadata": {},
     "output_type": "execute_result"
    }
   ],
   "source": [
    "'''Q9. Given a Pandas DataFrame df with a column 'Values', write a Python function to calculate the mean,\n",
    "median, and standard deviation of the values in the 'Values' column.'''\n",
    "df=pd.DataFrame({\"Values\":[1,2,3,5,4,6,7,8]})\n",
    "df"
   ]
  },
  {
   "cell_type": "code",
   "execution_count": 58,
   "id": "6fe7f686-09d2-414d-8c3b-e7947be316d5",
   "metadata": {},
   "outputs": [
    {
     "name": "stdout",
     "output_type": "stream",
     "text": [
      "The mean is  4.5\n"
     ]
    }
   ],
   "source": [
    "#function gor calcculation the mean of the values\n",
    "def mean_values(x):\n",
    "    m=df['Values'].size\n",
    "    sum=0\n",
    "    for i in range(m):\n",
    "        sum += df.loc[i, 'Values']\n",
    "    print(\"The mean is \",sum/m)\n",
    "mean_values(df)"
   ]
  },
  {
   "cell_type": "code",
   "execution_count": 61,
   "id": "a8db8d0e-005b-4194-a0af-6aa8fd451cd1",
   "metadata": {},
   "outputs": [
    {
     "name": "stdout",
     "output_type": "stream",
     "text": [
      "The median is  4.5\n"
     ]
    }
   ],
   "source": [
    "#function for calculating the median of Values\n",
    "def median_values(x):\n",
    "    m=df['Values'].size\n",
    "    l=[]\n",
    "    for i in range(m):\n",
    "        l.append(df.loc[i, 'Values'])\n",
    "    l.sort()\n",
    "    size=len(l)\n",
    "    if len(l)%2!=0:\n",
    "        mid=int(math.ceil(len(l)/2))\n",
    "        print(\"The median is \",l[mid])\n",
    "    else:\n",
    "        x1=int(size/2)\n",
    "        x2=x1-1\n",
    "        median=(l[x1]+l[x2])/2\n",
    "        print(\"The median is \",median)\n",
    "median_values(df)"
   ]
  },
  {
   "cell_type": "code",
   "execution_count": 81,
   "id": "2f0a160b-31ca-49a7-9288-fa9a2f395897",
   "metadata": {},
   "outputs": [
    {
     "data": {
      "text/plain": [
       "2.29128784747792"
      ]
     },
     "execution_count": 81,
     "metadata": {},
     "output_type": "execute_result"
    }
   ],
   "source": [
    "#Function for calculation the std of values\n",
    "def std_values(x):\n",
    "    return np.std(x['Values'])\n",
    "std_values(df)  "
   ]
  },
  {
   "cell_type": "code",
   "execution_count": 7,
   "id": "c9f46b39-331c-4e6e-a2fa-1b16d52a1bb1",
   "metadata": {},
   "outputs": [
    {
     "name": "stdout",
     "output_type": "stream",
     "text": [
      "   Sales       Date  MovingAverage\n",
      "0     10 2022-01-01      10.000000\n",
      "1     11 2022-01-02      10.500000\n",
      "2     23 2022-01-03      14.666667\n",
      "3     12 2022-01-04      14.000000\n",
      "4     32 2022-01-05      17.600000\n",
      "5     32 2022-01-06      20.000000\n",
      "6     14 2022-01-07      19.142857\n",
      "7     23 2022-01-08      21.000000\n",
      "8     43 2022-01-09      25.571429\n",
      "9     11 2022-01-10      23.857143\n"
     ]
    }
   ],
   "source": [
    "'''Q10. Given a Pandas DataFrame df with a column 'Sales' and a column 'Date', write a Python function to\n",
    "create a new column 'MovingAverage' that contains the moving average of the sales for the past 7 days\n",
    "for each row in the DataFrame. The moving average should be calculated using a window of size 7 and\n",
    "should include the current day.'''\n",
    "import pandas as pd\n",
    "\n",
    "def find_moving_average(df):\n",
    "    df['MovingAverage']=df['Sales'].rolling(window=7,min_periods=1).mean()\n",
    "\n",
    "    \n",
    "df=pd.DataFrame({\"Sales\":[10,11,23,12,32,32,14,23,43,11],\"Date\":pd.date_range(start='2022-01-01',periods=10,freq='D')})\n",
    "\n",
    "find_moving_average(df)\n",
    "print(df)"
   ]
  },
  {
   "cell_type": "code",
   "execution_count": 112,
   "id": "29a5a650-b8fe-497e-b6da-ebbefb316474",
   "metadata": {},
   "outputs": [
    {
     "data": {
      "text/html": [
       "<div>\n",
       "<style scoped>\n",
       "    .dataframe tbody tr th:only-of-type {\n",
       "        vertical-align: middle;\n",
       "    }\n",
       "\n",
       "    .dataframe tbody tr th {\n",
       "        vertical-align: top;\n",
       "    }\n",
       "\n",
       "    .dataframe thead th {\n",
       "        text-align: right;\n",
       "    }\n",
       "</style>\n",
       "<table border=\"1\" class=\"dataframe\">\n",
       "  <thead>\n",
       "    <tr style=\"text-align: right;\">\n",
       "      <th></th>\n",
       "      <th>Date</th>\n",
       "      <th>Weekday</th>\n",
       "    </tr>\n",
       "  </thead>\n",
       "  <tbody>\n",
       "    <tr>\n",
       "      <th>0</th>\n",
       "      <td>2023-01-01</td>\n",
       "      <td>Sunday</td>\n",
       "    </tr>\n",
       "    <tr>\n",
       "      <th>1</th>\n",
       "      <td>2023-01-02</td>\n",
       "      <td>Monday</td>\n",
       "    </tr>\n",
       "    <tr>\n",
       "      <th>2</th>\n",
       "      <td>2023-01-03</td>\n",
       "      <td>Tuesday</td>\n",
       "    </tr>\n",
       "    <tr>\n",
       "      <th>3</th>\n",
       "      <td>2023-01-04</td>\n",
       "      <td>Wednesday</td>\n",
       "    </tr>\n",
       "    <tr>\n",
       "      <th>4</th>\n",
       "      <td>2023-01-05</td>\n",
       "      <td>Thursday</td>\n",
       "    </tr>\n",
       "  </tbody>\n",
       "</table>\n",
       "</div>"
      ],
      "text/plain": [
       "        Date    Weekday\n",
       "0 2023-01-01     Sunday\n",
       "1 2023-01-02     Monday\n",
       "2 2023-01-03    Tuesday\n",
       "3 2023-01-04  Wednesday\n",
       "4 2023-01-05   Thursday"
      ]
     },
     "execution_count": 112,
     "metadata": {},
     "output_type": "execute_result"
    }
   ],
   "source": [
    "'''Q11. You have a Pandas DataFrame df with a column 'Date'. Write a Python function that creates a new\n",
    "column 'Weekday' in the DataFrame. The 'Weekday' column should contain the weekday name (e.g.\n",
    "Monday, Tuesday) corresponding to each date in the 'Date' column.'''\n",
    "#function that will return the modify dataframe\n",
    "def weekday(x):\n",
    "    x['Date']=pd.to_datetime(x['Date'])\n",
    "    x['Weekday']=x['Date'].dt.day_name()\n",
    "    return x\n",
    "df=pd.DataFrame({\"Date\":[\"2023-01-01\",\"2023-01-02\",\"2023-01-03\",\"2023-01-04\",\"2023-01-05\"]})\n",
    "#calling function weekday\n",
    "weekday(df)"
   ]
  },
  {
   "cell_type": "code",
   "execution_count": 122,
   "id": "018bc9a2-41ea-49f5-b6cf-612692aaca3e",
   "metadata": {},
   "outputs": [
    {
     "data": {
      "text/html": [
       "<div>\n",
       "<style scoped>\n",
       "    .dataframe tbody tr th:only-of-type {\n",
       "        vertical-align: middle;\n",
       "    }\n",
       "\n",
       "    .dataframe tbody tr th {\n",
       "        vertical-align: top;\n",
       "    }\n",
       "\n",
       "    .dataframe thead th {\n",
       "        text-align: right;\n",
       "    }\n",
       "</style>\n",
       "<table border=\"1\" class=\"dataframe\">\n",
       "  <thead>\n",
       "    <tr style=\"text-align: right;\">\n",
       "      <th></th>\n",
       "      <th>Date</th>\n",
       "    </tr>\n",
       "  </thead>\n",
       "  <tbody>\n",
       "    <tr>\n",
       "      <th>1</th>\n",
       "      <td>2023-01-02</td>\n",
       "    </tr>\n",
       "    <tr>\n",
       "      <th>3</th>\n",
       "      <td>2023-01-20</td>\n",
       "    </tr>\n",
       "    <tr>\n",
       "      <th>4</th>\n",
       "      <td>2023-01-30</td>\n",
       "    </tr>\n",
       "    <tr>\n",
       "      <th>6</th>\n",
       "      <td>2023-01-23</td>\n",
       "    </tr>\n",
       "  </tbody>\n",
       "</table>\n",
       "</div>"
      ],
      "text/plain": [
       "        Date\n",
       "1 2023-01-02\n",
       "3 2023-01-20\n",
       "4 2023-01-30\n",
       "6 2023-01-23"
      ]
     },
     "execution_count": 122,
     "metadata": {},
     "output_type": "execute_result"
    }
   ],
   "source": [
    "'''Q12. Given a Pandas DataFrame df with a column 'Date' that contains timestamps, write a Python\n",
    "function to select all rows where the date is between '2023-01-01' and '2023-01-31'.'''\n",
    "def inbtw_date(x):\n",
    "    x['Date']=pd.to_datetime(x['Date'])\n",
    "    return x[(x['Date']>'2023-01-01' ) & (x['Date']<'2023-01-31')]\n",
    "df=pd.DataFrame({\"Date\":[\"2023-01-01\",\"2023-01-02\",\"2023-02-01\",\"2023-01-20\",\"2023-01-30\",\"2023-01-31\",\"2023-01-23\"]})\n",
    "\n",
    "inbtw_date(df)"
   ]
  },
  {
   "cell_type": "code",
   "execution_count": 111,
   "id": "a3213705-26f1-4d98-8638-4b4192cca525",
   "metadata": {},
   "outputs": [],
   "source": [
    "'''Q13. To use the basic functions of pandas, what is the first and foremost necessary library that needs to\n",
    "be imported?\n",
    "Answer-We have to import pandas library to use the basic function of pandas'''\n",
    "import pandas as pd"
   ]
  },
  {
   "cell_type": "code",
   "execution_count": null,
   "id": "1f7fc38a-e21a-4561-ba33-4ad21b3f4b0e",
   "metadata": {},
   "outputs": [],
   "source": []
  }
 ],
 "metadata": {
  "kernelspec": {
   "display_name": "Python 3 (ipykernel)",
   "language": "python",
   "name": "python3"
  },
  "language_info": {
   "codemirror_mode": {
    "name": "ipython",
    "version": 3
   },
   "file_extension": ".py",
   "mimetype": "text/x-python",
   "name": "python",
   "nbconvert_exporter": "python",
   "pygments_lexer": "ipython3",
   "version": "3.10.8"
  }
 },
 "nbformat": 4,
 "nbformat_minor": 5
}
