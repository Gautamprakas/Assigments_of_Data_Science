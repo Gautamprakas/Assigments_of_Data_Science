{
 "cells": [
  {
   "cell_type": "code",
   "execution_count": 2,
   "id": "b1cf6fc8-835e-49af-bfa9-e6d334a4a49b",
   "metadata": {},
   "outputs": [],
   "source": [
    "import numpy as np\n",
    "list_ = [ '1' , '2' , '3' , '4' , '5' ]\n",
    "array_list = np.array(object = list_)"
   ]
  },
  {
   "cell_type": "code",
   "execution_count": null,
   "id": "23a8db50-5019-4469-8091-d6cd9f6c56d8",
   "metadata": {},
   "outputs": [],
   "source": [
    "'''Q1. Is there any difference in the data type of variables list_ and array_list? If there is then write a code\n",
    "to print the data types of both the variables.\n",
    "Answer-Yes there is a difference in variables list_ and array_list list_ type is list while the array_list type is\n",
    "numpy.ndarray'''"
   ]
  },
  {
   "cell_type": "code",
   "execution_count": 8,
   "id": "9678565d-6769-435e-8696-4945b7c5e0b1",
   "metadata": {},
   "outputs": [
    {
     "data": {
      "text/plain": [
       "list"
      ]
     },
     "execution_count": 8,
     "metadata": {},
     "output_type": "execute_result"
    }
   ],
   "source": [
    "type(list_)"
   ]
  },
  {
   "cell_type": "code",
   "execution_count": 9,
   "id": "8bf88a5b-f2ae-4ab6-9b5f-4155a43373f4",
   "metadata": {},
   "outputs": [
    {
     "data": {
      "text/plain": [
       "numpy.ndarray"
      ]
     },
     "execution_count": 9,
     "metadata": {},
     "output_type": "execute_result"
    }
   ],
   "source": [
    "type(array_list)"
   ]
  },
  {
   "cell_type": "code",
   "execution_count": 10,
   "id": "b441c19a-5e48-4020-bae4-79ae9992b0d8",
   "metadata": {},
   "outputs": [
    {
     "name": "stdout",
     "output_type": "stream",
     "text": [
      "<class 'str'>\n",
      "<class 'str'>\n",
      "<class 'str'>\n",
      "<class 'str'>\n",
      "<class 'str'>\n"
     ]
    }
   ],
   "source": [
    "'''Q2. Write a code to print the data type of each and every element of both the variables list_ and\n",
    "arra_list.'''\n",
    "#data type of list\n",
    "for i in list_:\n",
    "    print(type(i))"
   ]
  },
  {
   "cell_type": "code",
   "execution_count": 11,
   "id": "1efa6314-d9a7-48d4-adf7-391b37890c50",
   "metadata": {},
   "outputs": [
    {
     "name": "stdout",
     "output_type": "stream",
     "text": [
      "<class 'numpy.str_'>\n",
      "<class 'numpy.str_'>\n",
      "<class 'numpy.str_'>\n",
      "<class 'numpy.str_'>\n",
      "<class 'numpy.str_'>\n"
     ]
    }
   ],
   "source": [
    "#printing the data type of array_list\n",
    "for i in array_list:\n",
    "    print(type(i))"
   ]
  },
  {
   "cell_type": "code",
   "execution_count": 13,
   "id": "cce701bd-699e-4030-b20c-4f64f0eac808",
   "metadata": {},
   "outputs": [
    {
     "name": "stdout",
     "output_type": "stream",
     "text": [
      "<class 'numpy.ndarray'>\n",
      "<class 'list'>\n"
     ]
    }
   ],
   "source": [
    "'''Q3. Considering the following changes in the variable, array_list:\n",
    "array_list = np.array(object = list_, dtype = int)\n",
    "Will there be any difference in the data type of the elements present in both the variables, list_ and\n",
    "arra_list? If so then print the data types of each and every element present in both the variables, list_\n",
    "and arra_list.'''\n",
    "array_list=np.array(object = list_, dtype = int)\n",
    "print(type(array_list))\n",
    "print(type(list_))"
   ]
  },
  {
   "cell_type": "code",
   "execution_count": null,
   "id": "b2530fa7-ca51-4937-ab44-e09ac119b249",
   "metadata": {},
   "outputs": [],
   "source": [
    "'''Yes there is diffrence in dtype of list_ and array_list the type of array_list=numpy.ndarray adn type of list_ is list'''"
   ]
  },
  {
   "cell_type": "code",
   "execution_count": 16,
   "id": "34d8ba84-b459-4a8b-baae-d4a0d2a259e7",
   "metadata": {},
   "outputs": [
    {
     "name": "stdout",
     "output_type": "stream",
     "text": [
      "<class 'str'>\n",
      "<class 'str'>\n",
      "<class 'str'>\n",
      "<class 'str'>\n",
      "<class 'str'>\n",
      "<class 'numpy.int64'>\n",
      "<class 'numpy.int64'>\n",
      "<class 'numpy.int64'>\n",
      "<class 'numpy.int64'>\n",
      "<class 'numpy.int64'>\n"
     ]
    }
   ],
   "source": [
    "#printing the data type of each and every element in list_\n",
    "for i in list_:\n",
    "    print(type(i))\n",
    "#print the data type of each and every element in array_list\n",
    "for i in array_list:\n",
    "    print(type(i))"
   ]
  },
  {
   "cell_type": "code",
   "execution_count": 17,
   "id": "b1e3fc9b-8f24-43ba-81b7-fbf8e58ccd39",
   "metadata": {},
   "outputs": [],
   "source": [
    "import numpy as np\n",
    "num_list = [ [ 1 , 2 , 3 ] , [ 4 , 5 , 6 ] ]\n",
    "num_array = np.array(object = num_list)"
   ]
  },
  {
   "cell_type": "code",
   "execution_count": 20,
   "id": "21b1eba7-ed22-482e-8554-8c81d949f0ab",
   "metadata": {},
   "outputs": [
    {
     "name": "stdout",
     "output_type": "stream",
     "text": [
      "(2, 3)\n",
      "6\n"
     ]
    }
   ],
   "source": [
    "'''Q4. Write a code to find the following characteristics of variable, num_array:\n",
    "(i) shape\n",
    "(ii) size'''\n",
    "#pirnting the shape of num_array\n",
    "print(num_array.shape)\n",
    "#printitng the size of the num_array\n",
    "print(num_array.size)\n"
   ]
  },
  {
   "cell_type": "code",
   "execution_count": null,
   "id": "638a1f31-9f5d-4074-b0c8-41a17f511276",
   "metadata": {},
   "outputs": [],
   "source": []
  }
 ],
 "metadata": {
  "kernelspec": {
   "display_name": "Python 3 (ipykernel)",
   "language": "python",
   "name": "python3"
  },
  "language_info": {
   "codemirror_mode": {
    "name": "ipython",
    "version": 3
   },
   "file_extension": ".py",
   "mimetype": "text/x-python",
   "name": "python",
   "nbconvert_exporter": "python",
   "pygments_lexer": "ipython3",
   "version": "3.10.8"
  }
 },
 "nbformat": 4,
 "nbformat_minor": 5
}
