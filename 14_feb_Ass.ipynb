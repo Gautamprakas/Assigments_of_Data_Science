{
 "cells": [
  {
   "cell_type": "code",
   "execution_count": 1,
   "id": "5c49f663-ae52-488f-beaf-c3be86b08e5c",
   "metadata": {},
   "outputs": [],
   "source": [
    "'''Q1. What is multithreading in python? Why is it used? Name the module used to handle threads in python\n",
    "Answer-Multithreading refers to concurrently executing multiple threads by rapidly switching the control of \n",
    "the CPU between threads (called context switching). The Python Global Interpreter Lock limits one thread to\n",
    "run at a time even if the machine contains multiple processors.\n",
    "threading.Thread module is used in threading'''\n",
    "import threading"
   ]
  },
  {
   "cell_type": "code",
   "execution_count": null,
   "id": "aa07d881-bd53-46d4-8cf0-4473c8b1b37c",
   "metadata": {},
   "outputs": [],
   "source": [
    "'''Q2.Why threading module used? Write the use of the following functions\n",
    "( activeCount()-The activeCount() method of thread class is used to return the number of active threads in\n",
    "the current thread's thread group. The value returned is only an estimate because the number of threads may\\\n",
    "change dynamically while this method traverses internal data structures\n",
    "\n",
    "currentThread()-The return type of this method is a Thread class object, it returns the current Thread \n",
    "object active at the moment.\n",
    " \n",
    "enumerate()-Often, when dealing with iterators, we also get need to keep a count of iterations. Python eases\n",
    "the programmers’ task by providing a built-in function enumerate() for this task. Enumerate() method adds a \n",
    "counter to an iterable and returns it in a form of enumerating object. This enumerated object can then be \n",
    "used directly for loops or converted into a list of tuples using the list() function.'''\n",
    " "
   ]
  },
  {
   "cell_type": "code",
   "execution_count": null,
   "id": "73f5d55b-a723-4f6f-9d12-48df35b436c0",
   "metadata": {},
   "outputs": [],
   "source": [
    "'''Q3. Explain the following functions\n",
    "run()-run() method is an inbuilt method of the Thread class of the threading module in Python. \n",
    "This method is used to represent a thread's activity.\n",
    "\n",
    "start()-start() method is an inbuilt method of the Thread class of the threading module in Python. \n",
    "It is used to start a thread's activity. This method calls the run() method internally which then executes \n",
    "the target method. This method must be called at most one time for one thread\n",
    "\n",
    "join()-the join() method indicates wait till the thread terminates. We can also specify a timeout value to\n",
    "the join() method. In such a situation the calling thread may ask the thread to stop by sending a signal \n",
    "through an event object. The join() method can be called multiple times.\n",
    "\n",
    "isAlive()-Thread.is_alive() method is an inbuilt method of the Thread class of the threading module in \n",
    "Python. It uses a Thread object, and checks whether that thread is alive or not, ie, it is still running \n",
    "or not. This method returns True before the run() starts until just after the run() method is executed.'''"
   ]
  },
  {
   "cell_type": "code",
   "execution_count": 22,
   "id": "5d9f5b4b-77d6-4e54-bbda-2ff534d36b6c",
   "metadata": {},
   "outputs": [
    {
     "name": "stdout",
     "output_type": "stream",
     "text": [
      "[100, 9, 16, 9, 16]\n",
      "[1331, 27, 64, 27, 64, 216]\n"
     ]
    }
   ],
   "source": [
    "'''4. Write a python program to create two threads. Thread one must print the list of squares and thread\n",
    "two must print the list of cubes'''\n",
    "import threading\n",
    "def square(l):\n",
    "    print([i*i for i in l])\n",
    "def cube(l):\n",
    "    print([i*i*i for i in l])\n",
    "if __name__==\"__main__\":\n",
    "    t1=threading.Thread(target=square,args=([10,3,4,3,4],))\n",
    "    t2=threading.Thread(target=cube,args=([11,3,4,3,4,6],))\n",
    "    t1.start()\n",
    "    t2.start()\n",
    "   \n"
   ]
  },
  {
   "cell_type": "code",
   "execution_count": null,
   "id": "7b340551-134b-4650-8d5c-20de963317c5",
   "metadata": {},
   "outputs": [],
   "source": [
    "'''Q55. State advantages and disadvantages of multithreading\n",
    "Advantage-The overall throughput of the server is much greater. Minimized system resource usage.\n",
    "Threads impose minimal impact on system resources. Threads require less overhead to create, maintain, \n",
    "and manage than a traditional process\n",
    "Disadvantage-\n",
    "Difficulty of writing code. Multithreaded and multicontexted applications are not easy to write. ...\n",
    "Difficulty of debugging. ...\n",
    "Difficulty of managing concurrency. ...\n",
    "Difficulty of testing. ...\n",
    "Difficulty of porting existing code.'''"
   ]
  },
  {
   "cell_type": "code",
   "execution_count": null,
   "id": "02690268-20d1-4848-a654-616d4a61be90",
   "metadata": {},
   "outputs": [],
   "source": [
    "'''6. Explain deadlocks and race conditions."
   ]
  }
 ],
 "metadata": {
  "kernelspec": {
   "display_name": "Python 3 (ipykernel)",
   "language": "python",
   "name": "python3"
  },
  "language_info": {
   "codemirror_mode": {
    "name": "ipython",
    "version": 3
   },
   "file_extension": ".py",
   "mimetype": "text/x-python",
   "name": "python",
   "nbconvert_exporter": "python",
   "pygments_lexer": "ipython3",
   "version": "3.10.8"
  }
 },
 "nbformat": 4,
 "nbformat_minor": 5
}
