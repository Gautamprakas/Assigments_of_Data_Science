{
 "cells": [
  {
   "cell_type": "code",
   "execution_count": null,
   "id": "bb9b8fbf-8a05-4e5b-a179-8d77a8731d5f",
   "metadata": {},
   "outputs": [],
   "source": [
    "'''55555555\n",
    "Q2. Differentiate between Abstraction and Encapsulation. Explain with an example.\n",
    "Q3. What is abc module in python? Why is it used?\n",
    "Q4. How can we achieve data abstraction?\n",
    "Q5. Can we create an instance of an abstract class? Explain your answer.'''\n"
   ]
  },
  {
   "cell_type": "code",
   "execution_count": null,
   "id": "4c849189-6efb-4093-b596-93e09a2fa9ed",
   "metadata": {},
   "outputs": [],
   "source": [
    "'''Q1. What is Abstraction in OOps? Explain with an example.\n",
    "Answer-Abstraction is the concept of object-oriented programming that “shows” only \n",
    "essential attributes and “hides” unnecessary information. The main purpose of \n",
    "abstraction is hiding the unnecessary details from the users'''\n"
   ]
  },
  {
   "cell_type": "code",
   "execution_count": 3,
   "id": "bee5ed0e-022c-4a4b-ac25-2a30d59fda04",
   "metadata": {},
   "outputs": [],
   "source": [
    "from abc import ABC,abstractmethod \n",
    "class A(ABC):\n",
    "    @abstractmethod\n",
    "    def A_abs_method(self):\n",
    "        pass\n",
    "class B(A):\n",
    "    #overriding abstract method\n",
    "    def A_abs_method(self):\n",
    "        print(\"I am the abstract method of class A\")\n",
    "        "
   ]
  },
  {
   "cell_type": "code",
   "execution_count": 6,
   "id": "bea84301-5a8d-4b1c-a580-ccd6c5ee7e52",
   "metadata": {},
   "outputs": [
    {
     "name": "stdout",
     "output_type": "stream",
     "text": [
      "I am the abstract method of class A\n"
     ]
    }
   ],
   "source": [
    "a=B()\n",
    "a.A_abs_method()"
   ]
  },
  {
   "cell_type": "code",
   "execution_count": 5,
   "id": "75370a60-8064-4000-b026-ad368ada6147",
   "metadata": {},
   "outputs": [
    {
     "name": "stdout",
     "output_type": "stream",
     "text": [
      "I am the abstract method of class A\n"
     ]
    }
   ],
   "source": [
    "a.A_abs_method()"
   ]
  },
  {
   "cell_type": "code",
   "execution_count": 7,
   "id": "602d2cfe-e8bf-40a3-b1c3-0443526fefc0",
   "metadata": {},
   "outputs": [
    {
     "name": "stdout",
     "output_type": "stream",
     "text": [
      "I am the abstract method of class A\n"
     ]
    }
   ],
   "source": [
    "'''Q2. Differentiate between Abstraction and Encapsulation. Explain with an example.\n",
    "Answer-Abstraction is a design level process and it is used to reduce the complexity at the designing \n",
    "stage of a project. Encapsulation is an implementation level process, and it is used to provide privacy\n",
    "and maintain control over the transparency of data at the implementation stage of a project.'''\n",
    "#Example of abstraction\n",
    "from abc import ABC,abstractmethod \n",
    "class A(ABC):\n",
    "    @abstractmethod\n",
    "    def A_abs_method(self):\n",
    "        pass\n",
    "class B(A):\n",
    "    #overriding abstract method\n",
    "    def A_abs_method(self):\n",
    "        print(\"I am the abstract method of class A\")\n",
    "\n",
    "a=B()\n",
    "a.A_abs_method()"
   ]
  },
  {
   "cell_type": "code",
   "execution_count": 8,
   "id": "9511a626-eae0-4478-aeab-9a21e7b86451",
   "metadata": {},
   "outputs": [
    {
     "name": "stdout",
     "output_type": "stream",
     "text": [
      "Calling protected member of base class:  2\n",
      "Calling modified protected member outside class:  3\n",
      "Accessing protected member of obj1:  3\n",
      "Accessing protected member of obj2:  2\n"
     ]
    }
   ],
   "source": [
    "#Example of encapsulation\n",
    "class Base:\n",
    "    def __init__(self):\n",
    " \n",
    "        # Protected member\n",
    "        self._a = 2\n",
    " \n",
    "# Creating a derived class\n",
    "class Derived(Base):\n",
    "    def __init__(self):\n",
    " \n",
    "        # Calling constructor of\n",
    "        # Base class\n",
    "        Base.__init__(self)\n",
    "        print(\"Calling protected member of base class: \",\n",
    "              self._a)\n",
    " \n",
    "        # Modify the protected variable:\n",
    "        self._a = 3\n",
    "        print(\"Calling modified protected member outside class: \",\n",
    "              self._a)\n",
    " \n",
    " \n",
    "obj1 = Derived()\n",
    " \n",
    "obj2 = Base()\n",
    " \n",
    "# Calling protected member\n",
    "# Can be accessed but should not be done due to convention\n",
    "print(\"Accessing protected member of obj1: \", obj1._a)\n",
    " \n",
    "# Accessing the protected variable outside\n",
    "print(\"Accessing protected member of obj2: \", obj2._a)"
   ]
  },
  {
   "cell_type": "code",
   "execution_count": null,
   "id": "9570b25f-8362-485c-bfac-ac32332bd2f7",
   "metadata": {},
   "outputs": [],
   "source": [
    "'''Q3. What is abc module in python? Why is it used?\n",
    "Answer-The 'abc' module in Python library provides the infrastructure for defining custom abstract \n",
    "base classes. 'abc' works by marking methods of the base class as abstract. This is done by\n",
    "@absttractmethod decorator'''"
   ]
  },
  {
   "cell_type": "code",
   "execution_count": null,
   "id": "73a36672-9eec-4e90-9c92-6c2105d4595b",
   "metadata": {},
   "outputs": [],
   "source": [
    "'''Q4. How can we achieve data abstraction?\n",
    "Answer-Data Abstraction in Python can be achieved through creating abstract classes and inheriting \n",
    "them later. Before discussing what abstract classes are, let us have a brief introduction of inheritance.\n",
    "Inheritance in OOP is a way through which one class inherits the attributes and methods of another\n",
    "class'''"
   ]
  },
  {
   "cell_type": "code",
   "execution_count": null,
   "id": "cdb3b420-1442-4ef7-8f65-63771e425df6",
   "metadata": {},
   "outputs": [],
   "source": [
    "'''Q5. Can we create an instance of an abstract class? Explain your answer.\n",
    "Answer-No, we can't create an object of an abstract class. But we can create a reference variable of an\n",
    "abstract class. The reference variable is used to refer to the objects of derived classes (subclasses of\n",
    "abstract class)"
   ]
  }
 ],
 "metadata": {
  "kernelspec": {
   "display_name": "Python 3 (ipykernel)",
   "language": "python",
   "name": "python3"
  },
  "language_info": {
   "codemirror_mode": {
    "name": "ipython",
    "version": 3
   },
   "file_extension": ".py",
   "mimetype": "text/x-python",
   "name": "python",
   "nbconvert_exporter": "python",
   "pygments_lexer": "ipython3",
   "version": "3.10.8"
  }
 },
 "nbformat": 4,
 "nbformat_minor": 5
}
