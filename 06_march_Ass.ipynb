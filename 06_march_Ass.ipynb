{
 "cells": [
  {
   "cell_type": "code",
   "execution_count": null,
   "id": "bf806810-d078-4bba-8909-47c3a3ab5339",
   "metadata": {},
   "outputs": [],
   "source": [
    "'''Q1. What is Statistics?\n",
    "Answer-In Mathematics, statistics concerns the collection of data, organisation, interpretation, analysis and data\n",
    "presentation.The main purpose of using statistics is to plan the collected data in terms of experimental designs and \n",
    "statistical surveys. Statistics is considered a mathematical science that works with numerical data. In short, statistics is a \n",
    "crucial process which helps to make the decision based on the data.'''"
   ]
  },
  {
   "cell_type": "code",
   "execution_count": null,
   "id": "3f96d084-cfe7-44ea-a180-0ee2279a69cb",
   "metadata": {},
   "outputs": [],
   "source": [
    "'''Q2. Define the different types of statistics and give an example of when each type might be used.\n",
    "Answer-Statistics have majorly categorised into two types:\n",
    "1)Descriptive statistics-In this type of statistics, the data is summarised through the given observations. The summarisation is\n",
    "one from a sample of population using parameters such as the mean or standard deviation.\n",
    "Ex-Suppose the scores of 100 students belonging to a specific country are available. The performance of these students needs \n",
    "to be examined. This data by itself will not yield any valuable results. However, by using descriptive statistics, the spread \n",
    "of the marks can be obtained thus, giving a clear idea regarding the performance of each student.\n",
    "\n",
    "2)Inferential statistics-Now suppose the scores of the students of an entire country need to be examined. Using a sample of, \n",
    "say 100 students, inferential statistics is used to make generalizations about the population.\n",
    "\n",
    "Ex-Now suppose the scores of the students of an entire country need to be examined. Using a sample of, say 100 students, \n",
    "inferential statistics is used to make generalizations about the population.'''"
   ]
  },
  {
   "cell_type": "code",
   "execution_count": null,
   "id": "abcf0d61-6981-4f51-8188-aceadcc403b5",
   "metadata": {},
   "outputs": [],
   "source": [
    "'''Q3. What are the different types of data and how do they differ from each other? Provide an example of\n",
    "each type of data.\n",
    "Answer-There are mainly two types of data.\n",
    "1.Nominal data\n",
    "2.Ordinal data\n",
    "The difference between the both is-\n",
    "Nominal: the data can only be categorized. \n",
    "Ordinal: the data can be categorized and ranked.\n",
    "\n"
   ]
  },
  {
   "cell_type": "code",
   "execution_count": null,
   "id": "4f3161dc-f904-4d58-a1e9-b5bbddf30248",
   "metadata": {},
   "outputs": [],
   "source": [
    "'''Q4. Categorise the following datasets with respect to quantitative and qualitative data types:\n",
    "(i) Grading in exam: A+, A, B+, B, C+, C, D, E  -quantitative\n",
    "\n",
    "(ii) Colour of mangoes: yellow, green, orange, red-qualitative\n",
    "\n",
    "(iii) Height data of a class: [178.9, 179, 179.5, 176, 177.2, 178.3, 175.8,...]-quantitative\n",
    "\n",
    "(iv) Number of mangoes exported by a farm: [500, 600, 478, 672, ...]-quantitative'''"
   ]
  },
  {
   "cell_type": "code",
   "execution_count": null,
   "id": "87916c74-0a92-4531-bd3d-459a1c60f71b",
   "metadata": {},
   "outputs": [],
   "source": [
    "'''Q5. Explain the concept of levels of measurement and give an example of a variable for each level.\n",
    "Answer-Measurment is the process of assigning values to variable.There are four level of scale of measurment.Stevens has \n",
    "classified the different types of measurment scale into four categories.\n",
    "1)Nominal scale-In nominal scale order does not matter,word,letters even numbers are used to define the data.\n",
    "Ex-Gender Male or Female\n",
    "2)Original scale -Here ranking is important and order matter but we can't measure the difference..\n",
    "Ex-Review of a application Best Good Bad\n",
    "3)Interval scale-In interval scale the order is matter and we can measure the difference but cant mesure the ration of the\n",
    "variable and no starting point we can find.\n",
    "Ex-Temprature\n",
    "4)Ratio scale data-The order matter and we can measure the difference and also can measure the ration between the two variable\n",
    "it contains the starting point.\n",
    "Ex-The speed of two trains.'''"
   ]
  },
  {
   "cell_type": "code",
   "execution_count": null,
   "id": "b871aa1b-82f3-4e67-9b32-a2ebf03efec7",
   "metadata": {},
   "outputs": [],
   "source": [
    "'''Q6. Why is it important to understand the level of measurement when analyzing data? Provide an\n",
    "example to illustrate your answer.\n",
    "Answer- level of measurement helps you decide how to interpret the data from that variable. When you know that a measure \n",
    "is nominal (like the one just described), then you know that the numerical values are just short codes for the longer names.\n",
    "Ex-Some variables have fixed levels. For example, gender and ethnicity are always nominal level data because they cannot be\n",
    "ranked.\n",
    "However, for other variables, you can choose the level of measurement. For example, income is a variable that can be recorded\n",
    "on an ordinal or a ratio scale:'''"
   ]
  },
  {
   "cell_type": "code",
   "execution_count": null,
   "id": "b80594ec-9dc5-49a4-9881-207d81ceb83d",
   "metadata": {},
   "outputs": [],
   "source": [
    "'''Q7. How nominal data type is different from ordinal data type.\n",
    "Answer-In nominal data type the we can determine the order the rank of the data types but in ordinal data types we can determine\n",
    "the order of the data and the rank of the data.'''"
   ]
  },
  {
   "cell_type": "code",
   "execution_count": null,
   "id": "637ff6a1-dc9c-49b0-a5be-aaafaf4e370d",
   "metadata": {},
   "outputs": [],
   "source": [
    "'''Q8. Which type of plot can be used to display data in terms of range?\n",
    "Answer-A Range chart displays sets of data points, each of which is defined by multiple values for the same category, \n",
    "and emphasizes the distance between the two values.'''"
   ]
  },
  {
   "cell_type": "code",
   "execution_count": null,
   "id": "59f05dec-27f7-49e3-8539-2646a17ebb77",
   "metadata": {},
   "outputs": [],
   "source": [
    "'''Q9. Describe the difference between descriptive and inferential statistics. Give an example of each\n",
    "type of statistics and explain how they are used.\n",
    "Answer-In discriptive statistics gives information about raw data which describes the data in some manner.\n",
    "but in inferential statistics It gives information about raw data which describes the data in some manner.\n",
    "2.It helps in organizing, analyzing, and to present data in a meaningful manner.\n",
    "while in inferential statistics It allows us to compare data, and make hypotheses and predictions.\n",
    "\n",
    "If we take an example of descriptive statistics so lets we have weight of students in class =[64,67,67,87,87,66,43]\n",
    "the finding the average weight of students is the descriptive statistics.\n",
    "But on the basis of studunts weight in  class we have to find the average weight of whole college then that weight of the \n",
    "students in a class is act as a sample data so we have to use the inferential statistics.'''"
   ]
  },
  {
   "cell_type": "code",
   "execution_count": null,
   "id": "45be051e-3cbb-41e2-b866-2693d3ffce92",
   "metadata": {},
   "outputs": [],
   "source": [
    "'''Q10. What are some common measures of central tendency and variability used in statistics? Explain\n",
    "how each measure can be used to describe a dataset.\n",
    "Answer-Central tendency and variation are two measures used in statistics to summarize data. Measure of central tendency \n",
    "shows where the center or middle of the data set is located, whereas measure of variation shows the dispersion among data \n",
    "values\n",
    "Variability is most commonly measured with the following descriptive statistics:\n",
    "Range: the difference between the highest and lowest values. \n",
    "Interquartile range: the range of the middle half of a distribution. \n",
    "Standard deviation: average distance from the mean.'''"
   ]
  }
 ],
 "metadata": {
  "kernelspec": {
   "display_name": "Python 3 (ipykernel)",
   "language": "python",
   "name": "python3"
  },
  "language_info": {
   "codemirror_mode": {
    "name": "ipython",
    "version": 3
   },
   "file_extension": ".py",
   "mimetype": "text/x-python",
   "name": "python",
   "nbconvert_exporter": "python",
   "pygments_lexer": "ipython3",
   "version": "3.10.8"
  }
 },
 "nbformat": 4,
 "nbformat_minor": 5
}
