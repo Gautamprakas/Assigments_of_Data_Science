{
 "cells": [
  {
   "cell_type": "code",
   "execution_count": 8,
   "id": "4bec8540-0324-4455-96f8-ad5ad9c6adda",
   "metadata": {},
   "outputs": [],
   "source": [
    "'''Q1, Create a vehicle class with an init method having instance variables as name_of_vehicle, max_speed\n",
    "and average_of_vehicle.'''\n",
    "class vhicle:\n",
    "    def __init__(self,name_of_vhicle,max_speed,average_of_vhicle):\n",
    "        self.name_of_vhicle=name_of_vhicle\n",
    "        self.max_speed=max_speed\n",
    "        self.average_of_vhicle=average_of_vhicle"
   ]
  },
  {
   "cell_type": "code",
   "execution_count": 9,
   "id": "6f36e436-1cc1-4aaf-a88d-a3101297fe6d",
   "metadata": {},
   "outputs": [],
   "source": [
    "'''Q2. Create a child class car from the vehicle class created in Que 1, which will inherit the vehicle class.\n",
    "Create a method named seating_capacity which takes capacity as an argument and returns the name of\n",
    "the vehicle and its seating capacity.'''\n",
    "class car(vhicle):\n",
    "    def seating_capacity(self,capacity):\n",
    "        self.capacity=capacity\n",
    "        return self.name_of_vhicle,capacity"
   ]
  },
  {
   "cell_type": "code",
   "execution_count": 10,
   "id": "99fa3f75-f059-441b-a9d6-7d7f72e2a391",
   "metadata": {},
   "outputs": [],
   "source": [
    "audi=car(\"audi\",200,40)"
   ]
  },
  {
   "cell_type": "code",
   "execution_count": 11,
   "id": "101ec523-99b9-4d59-98ab-472b8768abc4",
   "metadata": {},
   "outputs": [
    {
     "data": {
      "text/plain": [
       "('audi', 5)"
      ]
     },
     "execution_count": 11,
     "metadata": {},
     "output_type": "execute_result"
    }
   ],
   "source": [
    "audi.seating_capacity(5)"
   ]
  },
  {
   "cell_type": "code",
   "execution_count": 13,
   "id": "f0eb1689-320f-48d6-a816-768d591f0d37",
   "metadata": {},
   "outputs": [],
   "source": [
    "'''Q3. What is multiple inheritance? Write a python code to demonstrate multiple inheritance.\n",
    "Answer- If a child class is inheriting the properties of a single other class, we call it single \n",
    "inheritance. However, if a child class inherits from more than one class, i.e. this child class is\n",
    "derived from multiple classes, we call it multiple inheritance in Python. This newly derived child \n",
    "class will inherit the properties of all the classes that it is derived from. A very simple real life\n",
    "example would be the one discussed above - a child inheriting properties of the father and mother.'''\n",
    "class BaseClass1:\n",
    "\t# Body of base class 1 (parent class 1)\n",
    "    pass\n",
    "\n",
    "class BaseClass2:\n",
    "\t# Body of base class 2 (parent class 2)\n",
    "    pass\n",
    "\n",
    "class DerivedClass(BaseClass1, BaseClass2):\n",
    "\t# Body of derived class (child class)\n",
    "\t# Inherited properties of baseclass1 and baseclass2\n",
    "    pass\n"
   ]
  },
  {
   "cell_type": "code",
   "execution_count": 45,
   "id": "4a01a81d-fcf2-4e25-8c49-bfeb57c813aa",
   "metadata": {},
   "outputs": [],
   "source": [
    "'''Q4. What are getter and setter in python? Create a class and create a getter and a setter method in \n",
    "this class.\n",
    "Answer-Getters and setters are used to protect your data, particularly when creating classes. For each \n",
    "instance variable, a getter method returns its value while a setter method sets or updates its value.\n",
    "Given this, getters and setters are also known as accessors and mutators, respectively.'''\n",
    "class car:\n",
    "    def __init__(self,speed=0,seat=0):\n",
    "        self.__speed=speed\n",
    "        self.__seat=seat\n",
    "    def get_speed(self):\n",
    "        return self.__speed\n",
    "    def get_seat(self):\n",
    "        return self.__seat\n",
    "    def set_speed(self,speed):\n",
    "        self.__speed=speed\n",
    "    def set_seat(self,seat):\n",
    "        self.__seat=seat\n",
    "        "
   ]
  },
  {
   "cell_type": "code",
   "execution_count": 46,
   "id": "03b3ca20-2304-4d88-960d-3fc857cae270",
   "metadata": {},
   "outputs": [],
   "source": [
    "bmw=car()\n"
   ]
  },
  {
   "cell_type": "code",
   "execution_count": 47,
   "id": "95039961-4452-42bf-9931-7dd2966d6c89",
   "metadata": {},
   "outputs": [],
   "source": [
    "bmw.set_speed(100)"
   ]
  },
  {
   "cell_type": "code",
   "execution_count": 48,
   "id": "62500cdd-0b6a-46b8-af33-2f4ac5e08bf1",
   "metadata": {},
   "outputs": [],
   "source": [
    "bmw.set_seat(5)"
   ]
  },
  {
   "cell_type": "code",
   "execution_count": 49,
   "id": "259577ac-3e64-4440-ad94-131a6f83d6b4",
   "metadata": {},
   "outputs": [
    {
     "name": "stdout",
     "output_type": "stream",
     "text": [
      "100\n"
     ]
    }
   ],
   "source": [
    "print(bmw.get_speed())"
   ]
  },
  {
   "cell_type": "code",
   "execution_count": 50,
   "id": "5ea5cb80-0ec8-4976-abd4-8273962bb998",
   "metadata": {},
   "outputs": [
    {
     "name": "stdout",
     "output_type": "stream",
     "text": [
      "5\n"
     ]
    }
   ],
   "source": [
    "print(bmw.get_seat())"
   ]
  },
  {
   "cell_type": "code",
   "execution_count": null,
   "id": "683fefaf-1b99-4176-b99b-40e6e0784143",
   "metadata": {},
   "outputs": [],
   "source": [
    "'''Q5.What is method overriding in python? Write a python code to demonstrate method overriding.\n",
    "Answer-Method overriding is an ability of any object-oriented programming language that allows a \n",
    "subclass or child class to provide a specific implementation of a method that is already provided by\n",
    "one of its super-classes or parent classes. When a method in a subclass has the same name, same\n",
    "parameters or signature and same return type(or sub-type) as a method in its super-class, then the\n",
    "method in the subclass is said to override the method in the super-class.'''\n",
    "class animal:\n",
    "    def move(self):\n",
    "        pass\n",
    "class lion(animal):\n",
    "    def move(self):\n",
    "        return \"lion is mo"
   ]
  }
 ],
 "metadata": {
  "kernelspec": {
   "display_name": "Python 3 (ipykernel)",
   "language": "python",
   "name": "python3"
  },
  "language_info": {
   "codemirror_mode": {
    "name": "ipython",
    "version": 3
   },
   "file_extension": ".py",
   "mimetype": "text/x-python",
   "name": "python",
   "nbconvert_exporter": "python",
   "pygments_lexer": "ipython3",
   "version": "3.10.8"
  }
 },
 "nbformat": 4,
 "nbformat_minor": 5
}
