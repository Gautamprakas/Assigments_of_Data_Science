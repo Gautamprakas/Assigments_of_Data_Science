{
 "cells": [
  {
   "cell_type": "markdown",
   "id": "30772ad9-555e-415c-afb4-25f61653ef48",
   "metadata": {},
   "source": [
    "Q1. Which keyword is used to create a function? Create a function to return a list of odd numbers in the\n",
    "range of 1 to 25."
   ]
  },
  {
   "cell_type": "code",
   "execution_count": 2,
   "id": "4703c71b-4324-405a-aa0c-c5cd52a8b815",
   "metadata": {},
   "outputs": [
    {
     "data": {
      "text/plain": [
       "[1, 3, 5, 7, 9, 11, 13, 15, 17, 19, 21, 23, 25]"
      ]
     },
     "execution_count": 2,
     "metadata": {},
     "output_type": "execute_result"
    }
   ],
   "source": [
    "#Answer-def keyword is used to create a function\n",
    "def oddNo(x):\n",
    "    l=[]\n",
    "    for i in range(1,x+1):\n",
    "        if i%2!=0:\n",
    "            l.append(i)\n",
    "    return l\n",
    "oddNo(25) \n",
    "    "
   ]
  },
  {
   "cell_type": "markdown",
   "id": "d8a50ca0-6b43-4509-b066-80a7b226182f",
   "metadata": {},
   "source": [
    "Q2. Why *args and **kwargs is used in some functions? Create a function each for *args and **kwargs\n",
    "to demonstrate their use."
   ]
  },
  {
   "cell_type": "code",
   "execution_count": 10,
   "id": "c7653c7f-c3f2-47f5-bf35-9d8d391a3c8d",
   "metadata": {},
   "outputs": [
    {
     "data": {
      "text/plain": [
       "{'name': 'Prakash', 'Phone': 7897680196}"
      ]
     },
     "execution_count": 10,
     "metadata": {},
     "output_type": "execute_result"
    }
   ],
   "source": [
    "#Answer-  *args is use in a function as a argument as while we call that function we can pass any no. of paremeter to it\n",
    "#  *args stored argument as tuple\n",
    "def argsUse(*args):\n",
    "    return args\n",
    "\n",
    "# **kwargs is used in a function as we can pass it to any key value pair of that function while we are calling it stores data in Dict format\n",
    "\n",
    "def kwargsUse(**kwargs):\n",
    "    return kwargs\n",
    "\n",
    "\n",
    "argsUse(10,15)\n",
    "kwargsUse(name=\"Prakash\",Phone=7897680196)"
   ]
  },
  {
   "cell_type": "markdown",
   "id": "f3c56946-28c2-4ffb-b465-1317aac92294",
   "metadata": {},
   "source": [
    "Q3. What is an iterator in python? Name the method used to initialise the iterator object and the method\n",
    "used for iteration. Use these methods to print the first five elements of the given list [2, 4, 6, 8, 10, 12, 14,\n",
    "16, 18, 20]."
   ]
  },
  {
   "cell_type": "markdown",
   "id": "204ed42d-0042-4e2a-87f9-038b92efb0ee",
   "metadata": {},
   "source": [
    "An iterator is an object that contains a countable number of values. An iterator is an object that can be iterated upon, \n",
    "meaning that you can traverse through all the values. Technically, in Python, an iterator is an object which implements the \n",
    "iterator protocol, which consist of the methods __iter__() and __next__() ."
   ]
  },
  {
   "cell_type": "code",
   "execution_count": 6,
   "id": "4c59fcde-aa26-4d9d-95ce-a8a2cfeac053",
   "metadata": {},
   "outputs": [
    {
     "data": {
      "text/plain": [
       "2"
      ]
     },
     "execution_count": 6,
     "metadata": {},
     "output_type": "execute_result"
    }
   ],
   "source": [
    "l=[2, 4, 6, 8, 10, 12, 14, 16, 18, 20]\n",
    "l=iter(l)\n",
    "next(l)"
   ]
  },
  {
   "cell_type": "code",
   "execution_count": 7,
   "id": "0637f7df-38f8-45b6-8da0-24614d459fb8",
   "metadata": {},
   "outputs": [
    {
     "data": {
      "text/plain": [
       "4"
      ]
     },
     "execution_count": 7,
     "metadata": {},
     "output_type": "execute_result"
    }
   ],
   "source": [
    "next(l)"
   ]
  },
  {
   "cell_type": "code",
   "execution_count": 8,
   "id": "bd29d71b-fa68-4c25-b352-2d1fcf546cfe",
   "metadata": {},
   "outputs": [
    {
     "data": {
      "text/plain": [
       "6"
      ]
     },
     "execution_count": 8,
     "metadata": {},
     "output_type": "execute_result"
    }
   ],
   "source": [
    "next(l)"
   ]
  },
  {
   "cell_type": "code",
   "execution_count": 9,
   "id": "f00161da-15eb-4d24-883f-92078135bb08",
   "metadata": {},
   "outputs": [
    {
     "data": {
      "text/plain": [
       "8"
      ]
     },
     "execution_count": 9,
     "metadata": {},
     "output_type": "execute_result"
    }
   ],
   "source": [
    "next(l)"
   ]
  },
  {
   "cell_type": "code",
   "execution_count": 10,
   "id": "ba789b06-ba17-465e-bae0-d8628badf7c0",
   "metadata": {},
   "outputs": [
    {
     "data": {
      "text/plain": [
       "10"
      ]
     },
     "execution_count": 10,
     "metadata": {},
     "output_type": "execute_result"
    }
   ],
   "source": [
    "next(l)"
   ]
  },
  {
   "cell_type": "markdown",
   "id": "e69377e0-3d4a-4bd8-b594-3fbf039627c8",
   "metadata": {},
   "source": [
    "Q4. What is a generator function in python? Why yield keyword is used? Give an example of a generator\n",
    "function."
   ]
  },
  {
   "cell_type": "markdown",
   "id": "db9878d3-4cee-43d2-9de3-9b2945c2ef41",
   "metadata": {},
   "source": [
    "Answer-Generator functions are a special kind of function that return a lazy iterator called a generator iterator.\n",
    "Yield keyeord is used to return a values from a generator"
   ]
  },
  {
   "cell_type": "code",
   "execution_count": 12,
   "id": "df9929b6-db0c-4b36-b242-183fcc2675af",
   "metadata": {},
   "outputs": [
    {
     "name": "stdout",
     "output_type": "stream",
     "text": [
      "0\n",
      "1\n",
      "1\n",
      "2\n"
     ]
    }
   ],
   "source": [
    "#Example\n",
    "def fab(n):\n",
    "    a,b=0,1\n",
    "    while n>0:\n",
    "        \n",
    "        yield a\n",
    "        a,b=b,a+b\n",
    "        n=n-1\n",
    "for i in fab(4):\n",
    "    print(i)"
   ]
  },
  {
   "cell_type": "markdown",
   "id": "e8eb70a9-5608-45e8-91c3-d52fb2e93a6c",
   "metadata": {},
   "source": [
    "Q5. Create a generator function for prime numbers less than 1000. Use the next() method to print the\n",
    "first 20 prime numbers."
   ]
  },
  {
   "cell_type": "code",
   "execution_count": null,
   "id": "39487869-385d-42fb-bb05-444b8f2299f8",
   "metadata": {},
   "outputs": [],
   "source": [
    "import math\n",
    "\n",
    "def main():\n",
    "    n=1\n",
    "    count = 3\n",
    "    \n",
    "    while n<1000:\n",
    "        n+=1\n",
    "        isprime = True\n",
    "        \n",
    "        for x in range(2, int(math.sqrt(count) + 1)):\n",
    "            if count % x == 0: \n",
    "                isprime = False\n",
    "                break\n",
    "        \n",
    "        if isprime:\n",
    "            print(count)\n",
    "            \n",
    "        \n",
    "        count += 1\n",
    "main() "
   ]
  },
  {
   "cell_type": "markdown",
   "id": "db97b9f7-2964-4187-9342-21b6ab6494d5",
   "metadata": {},
   "source": [
    "Q6. Write a python program to print the first 10 Fibonacci numbers using a while loop."
   ]
  },
  {
   "cell_type": "code",
   "execution_count": 20,
   "id": "bb22f7b0-b7c9-490f-98ad-54f043a2d7bd",
   "metadata": {},
   "outputs": [
    {
     "name": "stdout",
     "output_type": "stream",
     "text": [
      "0\n",
      "1\n",
      "1\n",
      "2\n",
      "3\n",
      "5\n",
      "8\n",
      "13\n",
      "21\n",
      "34\n"
     ]
    }
   ],
   "source": [
    "x=0\n",
    "a,b=0,1\n",
    "while x<10:\n",
    "    print(a)\n",
    "    a,b=b,a+b\n",
    "    x+=1"
   ]
  },
  {
   "cell_type": "markdown",
   "id": "3e88252a-dee4-47b1-a9fd-85c71a31666b",
   "metadata": {},
   "source": [
    "Q7. Write a List Comprehension to iterate through the given string: ‘pwskills’.\n",
    "Expected output: ['p', 'w', 's', 'k', 'i', 'l', 'l', 's']"
   ]
  },
  {
   "cell_type": "code",
   "execution_count": 25,
   "id": "6335f067-fd53-48fc-9174-b610975bcdd5",
   "metadata": {},
   "outputs": [
    {
     "data": {
      "text/plain": [
       "['p', 'w', 's', 'k', 'i', 'l', 'l', 's']"
      ]
     },
     "execution_count": 25,
     "metadata": {},
     "output_type": "execute_result"
    }
   ],
   "source": [
    "string= \"pwskills\"\n",
    "[i for i in string]"
   ]
  },
  {
   "cell_type": "markdown",
   "id": "9e67e598-54ef-4269-855d-1f48fe7d79df",
   "metadata": {},
   "source": [
    "Q8. Write a python program to check whether a given number is Palindrome or not using a while loop."
   ]
  },
  {
   "cell_type": "code",
   "execution_count": 34,
   "id": "d4f5f8dc-ca68-45e5-9f25-f78ebabefff6",
   "metadata": {},
   "outputs": [
    {
     "data": {
      "text/plain": [
       "True"
      ]
     },
     "execution_count": 34,
     "metadata": {},
     "output_type": "execute_result"
    }
   ],
   "source": [
    "def isPalindrome(n):\n",
    "    x=str(n)\n",
    "    l=[i for i in x]\n",
    "    for j in range(len(l)):\n",
    "        if l[j]==l[len(l)-1] and j<=len(l):\n",
    "            return True\n",
    "        else:\n",
    "            return False\n",
    "isPalindrome(10001)"
   ]
  },
  {
   "cell_type": "markdown",
   "id": "66c9a8bc-b9c2-461b-bea7-e21be246c25f",
   "metadata": {},
   "source": [
    "Q9. Write a code to print odd numbers from 1 to 100 using list comprehension."
   ]
  },
  {
   "cell_type": "code",
   "execution_count": 36,
   "id": "b881d6f9-c831-44c5-97b9-edbdad61d919",
   "metadata": {},
   "outputs": [
    {
     "data": {
      "text/plain": [
       "[1,\n",
       " 2,\n",
       " 3,\n",
       " 4,\n",
       " 5,\n",
       " 6,\n",
       " 7,\n",
       " 8,\n",
       " 9,\n",
       " 10,\n",
       " 11,\n",
       " 12,\n",
       " 13,\n",
       " 14,\n",
       " 15,\n",
       " 16,\n",
       " 17,\n",
       " 18,\n",
       " 19,\n",
       " 20,\n",
       " 21,\n",
       " 22,\n",
       " 23,\n",
       " 24,\n",
       " 25,\n",
       " 26,\n",
       " 27,\n",
       " 28,\n",
       " 29,\n",
       " 30,\n",
       " 31,\n",
       " 32,\n",
       " 33,\n",
       " 34,\n",
       " 35,\n",
       " 36,\n",
       " 37,\n",
       " 38,\n",
       " 39,\n",
       " 40,\n",
       " 41,\n",
       " 42,\n",
       " 43,\n",
       " 44,\n",
       " 45,\n",
       " 46,\n",
       " 47,\n",
       " 48,\n",
       " 49,\n",
       " 50,\n",
       " 51,\n",
       " 52,\n",
       " 53,\n",
       " 54,\n",
       " 55,\n",
       " 56,\n",
       " 57,\n",
       " 58,\n",
       " 59,\n",
       " 60,\n",
       " 61,\n",
       " 62,\n",
       " 63,\n",
       " 64,\n",
       " 65,\n",
       " 66,\n",
       " 67,\n",
       " 68,\n",
       " 69,\n",
       " 70,\n",
       " 71,\n",
       " 72,\n",
       " 73,\n",
       " 74,\n",
       " 75,\n",
       " 76,\n",
       " 77,\n",
       " 78,\n",
       " 79,\n",
       " 80,\n",
       " 81,\n",
       " 82,\n",
       " 83,\n",
       " 84,\n",
       " 85,\n",
       " 86,\n",
       " 87,\n",
       " 88,\n",
       " 89,\n",
       " 90,\n",
       " 91,\n",
       " 92,\n",
       " 93,\n",
       " 94,\n",
       " 95,\n",
       " 96,\n",
       " 97,\n",
       " 98,\n",
       " 99,\n",
       " 100]"
      ]
     },
     "execution_count": 36,
     "metadata": {},
     "output_type": "execute_result"
    }
   ],
   "source": [
    "l=[i for i in range(1,101)]\n",
    "l2=[i"
   ]
  },
  {
   "cell_type": "code",
   "execution_count": null,
   "id": "dd1184d0-dec6-413e-95a0-3f273e2744d0",
   "metadata": {},
   "outputs": [],
   "source": []
  }
 ],
 "metadata": {
  "kernelspec": {
   "display_name": "Python 3 (ipykernel)",
   "language": "python",
   "name": "python3"
  },
  "language_info": {
   "codemirror_mode": {
    "name": "ipython",
    "version": 3
   },
   "file_extension": ".py",
   "mimetype": "text/x-python",
   "name": "python",
   "nbconvert_exporter": "python",
   "pygments_lexer": "ipython3",
   "version": "3.10.8"
  }
 },
 "nbformat": 4,
 "nbformat_minor": 5
}
