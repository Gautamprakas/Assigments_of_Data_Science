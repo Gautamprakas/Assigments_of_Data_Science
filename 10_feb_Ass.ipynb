{
 "cells": [
  {
   "cell_type": "code",
   "execution_count": null,
   "id": "c3674abf-3457-441c-a4b1-ce2270047050",
   "metadata": {},
   "outputs": [],
   "source": [
    "'''Q1. Which function is used to open a file? What are the different modes of opening a file? Explain each mode\n",
    "of file opening.\n",
    "Answer-To work with files in Python, you have to open the file first. So, the open() function does what the name implies – \n",
    "it opens a file for you so you can work with the file\n",
    "Diff modes of opening a file\n",
    "r - open a file in read mode.\n",
    "w - opens or create a text file in write mode.\n",
    "a - opens a file in append mode.\n",
    "r+ - opens a file in both read and write mode.\n",
    "a+ - opens a file in both read and write mode.\n",
    "w+ - opens a file in both read and write mode.'''\n"
   ]
  },
  {
   "cell_type": "code",
   "execution_count": null,
   "id": "c0ac2439-b4fd-4a85-8221-362970c24550",
   "metadata": {},
   "outputs": [],
   "source": [
    "'''Q2. Why close() function is used? Why is it important to close a file?\n",
    "Answer-close() function in python is used to close the file that is previously opened.\n",
    "files are limited resources managed by the operating system, making sure files are closed after use will protect against hard-to-debug issues \n",
    "like running out of file handles or experiencing corrupted data. The best defense is always to open files with a context \n",
    "manager.\n",
    "Thats why we have to make sure to close the file.'''"
   ]
  },
  {
   "cell_type": "code",
   "execution_count": 5,
   "id": "a2996433-cc56-47aa-935d-48c933c12304",
   "metadata": {},
   "outputs": [
    {
     "data": {
      "text/plain": [
       "'I want to become a Data Scientist'"
      ]
     },
     "execution_count": 5,
     "metadata": {},
     "output_type": "execute_result"
    }
   ],
   "source": [
    "'''Q3. Write a python program to create a text file. Write ‘I want to become a Data Scientist’ in that file. Then\n",
    "close the file. Open this file and read the content of the file.'''\n",
    "#creating file\n",
    "file=open(\"new.txt\",'w')\n",
    "file.write(\"I want to become a Data Scientist\")\n",
    "file.close()\n",
    "#Reading file\n",
    "file_read=open(\"new.txt\",'r')\n",
    "file_read.read()\n"
   ]
  },
  {
   "cell_type": "code",
   "execution_count": null,
   "id": "4c1da0aa-6b0b-43cc-91ac-46ecd8ceb0e9",
   "metadata": {},
   "outputs": [],
   "source": [
    "'''Q4. Explain the following with python code: read(), readline() and readlines().\n",
    "Answer-\n",
    "read()-The read() method returns the specified number of bytes from the file. Default is -1 which means the whole file.\n",
    "readline()-The readline() method returns one line from the file. You can also specified how many bytes from the line to \n",
    "return, by using the size parameter.\n",
    "readlines()-readlines() method will return all the lines in a file in the format of a list where each element is a line in\n",
    "the file'''"
   ]
  },
  {
   "cell_type": "code",
   "execution_count": null,
   "id": "ada0b860-061c-43e0-9da6-007bd8b3f5be",
   "metadata": {},
   "outputs": [],
   "source": [
    "'''Q5. Explain why with statement is used with open(). What is the advantage of using with statement and\n",
    "open() together?\n",
    "Answer-In Python, with statement is used in exception handling to make the code cleaner and much more readable. It simplifies\n",
    "the management of common resources like file streams. Observe the following code example on how the use of with statement makes\n",
    "code cleaner.\n",
    "\n",
    "Advantage of using wuth statement and open() together Using with means that the file will be closed as soon as you leave the \n",
    "block. '''"
   ]
  },
  {
   "cell_type": "code",
   "execution_count": 9,
   "id": "2dad417b-2767-4ca6-ab52-5eae52f7b23d",
   "metadata": {},
   "outputs": [],
   "source": [
    "'''Q6. Explain the write() and writelines() functions. Give a suitable example.\n",
    "Answer-\n",
    "write()-The write() method writes a specified text to the file. Where the specified text will be inserted depends on the \n",
    "file mode and stream position.'''\n",
    "with open(\"new.txt\",'a') as f:\n",
    "    f.write(\"Hy i am writing new line using f.write() method\")\n",
    "'''\n",
    "writelines()-The writelines() method writes the items of a list to the file. Where the texts will be inserted depends on the \n",
    "file mode and stream position.'''\n",
    "with open(\"new_1.txt\",'w') as f:\n",
    "    l=[\"Hy My name is Prakash gautam\\\",\"HY my name is Ranjeet Kumar\",\"Thats it\"]\n",
    "    f.writelines(l)\n",
    "    \n",
    "    "
   ]
  },
  {
   "cell_type": "code",
   "execution_count": null,
   "id": "05e36027-7d50-4be7-bb34-a3cdc9465d0b",
   "metadata": {},
   "outputs": [],
   "source": []
  }
 ],
 "metadata": {
  "kernelspec": {
   "display_name": "Python 3 (ipykernel)",
   "language": "python",
   "name": "python3"
  },
  "language_info": {
   "codemirror_mode": {
    "name": "ipython",
    "version": 3
   },
   "file_extension": ".py",
   "mimetype": "text/x-python",
   "name": "python",
   "nbconvert_exporter": "python",
   "pygments_lexer": "ipython3",
   "version": "3.10.8"
  }
 },
 "nbformat": 4,
 "nbformat_minor": 5
}
