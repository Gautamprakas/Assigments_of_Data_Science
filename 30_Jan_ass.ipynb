{
 "cells": [
  {
   "cell_type": "code",
   "execution_count": 9,
   "id": "98fe068b-a001-4d14-9f1b-110b8346f5d0",
   "metadata": {},
   "outputs": [
    {
     "name": "stdin",
     "output_type": "stream",
     "text": [
      "Enter the percantage  78\n"
     ]
    },
    {
     "name": "stdout",
     "output_type": "stream",
     "text": [
      "C\n"
     ]
    }
   ],
   "source": [
    "'''Answer 1'''\n",
    "x=int(input(\"Enter the percantage \"))\n",
    "if x>90:\n",
    "    print(\"A\")\n",
    "elif x<=90 and x>80:\n",
    "          print(\"B\")\n",
    "elif x<=80 and x>=60:\n",
    "          print(\"C\")\n",
    "else:\n",
    "          print(\"D\")"
   ]
  },
  {
   "cell_type": "code",
   "execution_count": 14,
   "id": "52dc6d37-00d4-4fd7-9ef8-94e7f02776cc",
   "metadata": {},
   "outputs": [
    {
     "name": "stdin",
     "output_type": "stream",
     "text": [
      "Enter the price of a bike to calculate road price 60000\n"
     ]
    },
    {
     "name": "stdout",
     "output_type": "stream",
     "text": [
      "the tax is 6000.0\n"
     ]
    }
   ],
   "source": [
    "'''Answer 2'''\n",
    "price=int(input(\"Enter the price of a bike to calculate road price\"))\n",
    "if price>100000:\n",
    "    print(\"the tax is\",price*0.15)\n",
    "elif price<=100000 and price>50000:\n",
    "    print(\"the tax is\",price*0.1)\n",
    "elif price<=50000:\n",
    "    print(\"the tax is\",price*0.5)"
   ]
  },
  {
   "cell_type": "code",
   "execution_count": 19,
   "id": "e9e223e7-8358-47b9-995f-aa3e1dc899d3",
   "metadata": {},
   "outputs": [
    {
     "name": "stdin",
     "output_type": "stream",
     "text": [
      "Enter city name to find monuments jaipur\n"
     ]
    },
    {
     "name": "stdout",
     "output_type": "stream",
     "text": [
      "Jal Mahal\n"
     ]
    }
   ],
   "source": [
    "'''Answer 3'''\n",
    "city=input(\"Enter city name to find monuments\")\n",
    "city=city.lower()\n",
    "if city==\"agra\":\n",
    "    print(\"Taj Mahal\")\n",
    "elif city==\"dellhi\":\n",
    "    print(\"Red fort\")\n",
    "elif city==\"jaipur\":\n",
    "    print(\"Jal Mahal\")\n",
    "else:\n",
    "    print(\"incorrect city name\")"
   ]
  },
  {
   "cell_type": "code",
   "execution_count": 24,
   "id": "94223266-bbc1-4a03-ba12-2f2427a01c72",
   "metadata": {},
   "outputs": [
    {
     "name": "stdin",
     "output_type": "stream",
     "text": [
      "Enter the no. 1000\n"
     ]
    },
    {
     "name": "stdout",
     "output_type": "stream",
     "text": [
      "5\n"
     ]
    }
   ],
   "source": [
    "'''Answer 4'''\n",
    "x=int(input(\"Enter the no.\"))\n",
    "count=0\n",
    "while x>=10:\n",
    "    x=x/3\n",
    "    count=count+1\n",
    "print(int(count))"
   ]
  },
  {
   "cell_type": "code",
   "execution_count": null,
   "id": "670f2d27-9bb2-44ae-b00f-cb731ffe33a9",
   "metadata": {},
   "outputs": [],
   "source": [
    "'''Answer 5\n",
    "Python while loop is used to run a block code until a certain condition is met. Here, A while loop evaluates the condition. \n",
    "If the condition evaluates to True , the code inside the while loop is executed.'''\n",
    "x=int(input(\"Enter the no.\"))\n",
    "count=0\n",
    "while x>=10:\n",
    "    x=x/3\n",
    "    count=count+1\n",
    "print(int(count))"
   ]
  },
  {
   "cell_type": "code",
   "execution_count": null,
   "id": "d600f7c5-9a14-4a43-af7c-e061b8da3cbb",
   "metadata": {},
   "outputs": [],
   "source": [
    "'''Answer 6'''\n",
    "n = int(input('Enter number of rows : '))\n",
    " \n",
    "i = 1\n",
    "while i <= n :\n",
    "    j = 1\n",
    "    while j <= i:\n",
    "        print(\"*\", end = \" \")\n",
    "        j += 1\n",
    "    print()\n",
    "    i += 1"
   ]
  },
  {
   "cell_type": "code",
   "execution_count": null,
   "id": "a2977c92-92c3-4ee4-a840-8d63f37d4fe0",
   "metadata": {},
   "outputs": [],
   "source": [
    "n = int(input('Enter number of rows : '))\n",
    " \n",
    "k = 1\n",
    "i = 1\n",
    "while i <= n :\n",
    "    j = 1\n",
    "    while j <= i:\n",
    "        print(\"{:3d}\".format(k), end = \" \")\n",
    "        j += 1\n",
    "        k += 1\n",
    "    print()\n",
    "    i += 1"
   ]
  },
  {
   "cell_type": "code",
   "execution_count": null,
   "id": "a9136fe7-6bf2-4f6b-be78-f4d1f0f149b4",
   "metadata": {},
   "outputs": [],
   "source": [
    "n = int(input('Enter number of rows : '))\n",
    " \n",
    "i = 1\n",
    "while i <= n :\n",
    "    j = 1\n",
    "    while j <= i:\n",
    "        print(\"*\", end = \" \")\n",
    "        j += 1\n",
    "    print()\n",
    "    i += 1"
   ]
  },
  {
   "cell_type": "code",
   "execution_count": 25,
   "id": "ae8be979-c61e-4c9a-b85f-1d126c7134b3",
   "metadata": {},
   "outputs": [
    {
     "name": "stdout",
     "output_type": "stream",
     "text": [
      "10\n",
      "9\n",
      "8\n",
      "7\n",
      "6\n",
      "5\n",
      "4\n",
      "3\n",
      "2\n",
      "1\n"
     ]
    }
   ],
   "source": [
    "'''Answer 7'''\n",
    "i=10\n",
    "while i>0:\n",
    "    print(i)\n",
    "    i=i-1"
   ]
  },
  {
   "cell_type": "code",
   "execution_count": null,
   "id": "95d96f00-83ac-4045-99a9-0158a620a1c7",
   "metadata": {},
   "outputs": [],
   "source": []
  }
 ],
 "metadata": {
  "kernelspec": {
   "display_name": "Python 3 (ipykernel)",
   "language": "python",
   "name": "python3"
  },
  "language_info": {
   "codemirror_mode": {
    "name": "ipython",
    "version": 3
   },
   "file_extension": ".py",
   "mimetype": "text/x-python",
   "name": "python",
   "nbconvert_exporter": "python",
   "pygments_lexer": "ipython3",
   "version": "3.10.8"
  }
 },
 "nbformat": 4,
 "nbformat_minor": 5
}
