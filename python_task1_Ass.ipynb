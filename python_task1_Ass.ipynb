{
 "cells": [
  {
   "cell_type": "code",
   "execution_count": 21,
   "id": "c85861f3-6a79-41ee-9210-11ce46ffc1d4",
   "metadata": {},
   "outputs": [],
   "source": [
    "'''Q1. Create a function which will take a list as an argument and return the product of all the numbers\n",
    "after creating a flat list.\n",
    "Use the below-given list as an argument for your function.\n",
    "list1 = [1,2,3,4, [44,55,66, True], False, (34,56,78,89,34), {1,2,3,3,2,1}, {1:34, \"key2\": [55, 67, 78, 89], 4: (45,\n",
    "22, 61, 34)}, [56, 'data science'], 'Machine Learning']'''\n",
    "\n",
    "list1 = [1,2,3,4, [44,55,66, True], False, (34,56,78,89,34), {1,2,3,3,2,1}, {1:34, \"key2\": [55, 67, 78, 89], 4: (45,\n",
    "22, 61, 34)}, [56, 'data science'], 'Machine Learning']\n",
    "flat_list=[]\n",
    "for i in list1:\n",
    "    if type(i)==int:\n",
    "        flat_list.append(i)\n",
    "    if type(i)==list:\n",
    "        for j in i:\n",
    "            if type(j)==int:\n",
    "                flat_list.append(j)\n",
    "    if type(i)==tuple:\n",
    "        for j in i:\n",
    "            if type(j)==int:\n",
    "                flat_list.append(j)\n",
    "    if type(i)==set:\n",
    "        b=list(i)\n",
    "        for m in b:\n",
    "            flat_list.append(m)\n",
    "    if type(i)==dict:\n",
    "            x=i.keys()\n",
    "            y=i.values()\n",
    "            for i in x:\n",
    "                if type(i)==int:\n",
    "                    flat_list.append(i)\n",
    "                if type(i)==list:\n",
    "                    for j in i:\n",
    "                        if type(j)==int:\n",
    "                            flat_list.append(j)\n",
    "                if type(i)==tuple:\n",
    "                        for j in i:\n",
    "                            if type(j)==int:\n",
    "                                flat_list.append(j)\n",
    "            for k in y:\n",
    "                if type(k)==int:\n",
    "                    flat_list.append(k)\n",
    "                if type(k)==list:\n",
    "                    for j in k:\n",
    "                        if type(j)==int:\n",
    "                            flat_list.append(j)\n",
    "                if type(k)==tuple:\n",
    "                    for j in k:\n",
    "                        if type(j)==int:\n",
    "                            flat_list.append(j)\n"
   ]
  },
  {
   "cell_type": "code",
   "execution_count": 22,
   "id": "1000d9de-34a6-418c-ae90-9d5dd1069751",
   "metadata": {},
   "outputs": [
    {
     "data": {
      "text/plain": [
       "[1,\n",
       " 2,\n",
       " 3,\n",
       " 4,\n",
       " 44,\n",
       " 55,\n",
       " 66,\n",
       " 34,\n",
       " 56,\n",
       " 78,\n",
       " 89,\n",
       " 34,\n",
       " 1,\n",
       " 2,\n",
       " 3,\n",
       " 1,\n",
       " 4,\n",
       " 34,\n",
       " 55,\n",
       " 67,\n",
       " 78,\n",
       " 89,\n",
       " 45,\n",
       " 22,\n",
       " 61,\n",
       " 34,\n",
       " 56]"
      ]
     },
     "execution_count": 22,
     "metadata": {},
     "output_type": "execute_result"
    }
   ],
   "source": [
    "flat_list"
   ]
  },
  {
   "cell_type": "code",
   "execution_count": 23,
   "id": "86a61615-4c7e-43fb-890a-53c2711f2ef9",
   "metadata": {},
   "outputs": [
    {
     "data": {
      "text/plain": [
       "4134711838987085478833841242112000"
      ]
     },
     "execution_count": 23,
     "metadata": {},
     "output_type": "execute_result"
    }
   ],
   "source": [
    "flat_list_product=1\n",
    "for i in flat_list:\n",
    "    flat_list_product=flat_list_product*i\n",
    "flat_list_product"
   ]
  },
  {
   "cell_type": "code",
   "execution_count": 32,
   "id": "312a5474-52b4-4924-ada8-214d763dd7dc",
   "metadata": {},
   "outputs": [],
   "source": [
    "'''Q2. Write a python program for encrypting a message sent to you by your friend. The logic of encryption\n",
    "should be such that, for a the output should be z. For b, the output should be y. For c, the output should\n",
    "be x respectively. Also, the whitespace should be replaced with a dollar sign. Keep the punctuation\n",
    "marks unchanged.\n",
    "Input Sentence: I want to become a Data Scientist.'''\n",
    "text=\"I want to become a Data Scientist\"\n",
    "text=text.lower()\n",
    "\n"
   ]
  },
  {
   "cell_type": "code",
   "execution_count": 36,
   "id": "2d9ca302-7a97-4f5a-a76f-fedbf53b6ce6",
   "metadata": {},
   "outputs": [
    {
     "name": "stdout",
     "output_type": "stream",
     "text": [
      "zyxwvutsrqponmlkjihgfedcba\n",
      "r dzmg gl yvxlnv z wzgz hxrvmgrhg\n"
     ]
    }
   ],
   "source": [
    "alphabet=\"abcdefghijklmnopqrstuvwxyz\"\n",
    "#key=    \"zyxwvutsrqponmlkjihgfedcba\"\n",
    "key=alphabet[::-1]\n",
    "result = \"\"\n",
    "for letter in text:\n",
    "    if letter in alphabet:\n",
    "        result += key[alphabet.find(letter.lower())]\n",
    "    if letter==\" \":\n",
    "        result=result+\"$\"\n",
    "\n",
    "print(result)"
   ]
  },
  {
   "cell_type": "code",
   "execution_count": null,
   "id": "b54eaf7f-eecb-49ec-bf2b-0a44617258f1",
   "metadata": {},
   "outputs": [],
   "source": []
  }
 ],
 "metadata": {
  "kernelspec": {
   "display_name": "Python 3 (ipykernel)",
   "language": "python",
   "name": "python3"
  },
  "language_info": {
   "codemirror_mode": {
    "name": "ipython",
    "version": 3
   },
   "file_extension": ".py",
   "mimetype": "text/x-python",
   "name": "python",
   "nbconvert_exporter": "python",
   "pygments_lexer": "ipython3",
   "version": "3.10.8"
  }
 },
 "nbformat": 4,
 "nbformat_minor": 5
}
