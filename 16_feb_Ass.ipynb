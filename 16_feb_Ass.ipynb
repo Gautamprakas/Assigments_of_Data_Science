{
 "cells": [
  {
   "cell_type": "code",
   "execution_count": null,
   "id": "2961ba3e-a778-43c6-be08-63d86f6a6848",
   "metadata": {},
   "outputs": [],
   "source": [
    "'''Q1. What is a database? Differentiate between SQL and NoSQL databases.\n",
    "Answer-In computing, a database is an organized collection of data stored and accessed \n",
    "electronically. Small databases can be stored on a file system, while large databases are hosted on \n",
    "computer clusters or cloud storage\n",
    "Diff btw sql and noSQL-SQL stands for structure querry language and it stores and retrieve data in tabular \n",
    "format or structred data only can be stored in sql\n",
    "But in the case of NoSQl it stores data structred as well as unstructres data like multimedia file ,images etc.\n",
    "'''"
   ]
  },
  {
   "cell_type": "code",
   "execution_count": null,
   "id": "6dde6569-75ac-48b4-8e56-3ffb5b92d8ad",
   "metadata": {},
   "outputs": [],
   "source": [
    "'''Q2. What is DDL? Explain why CREATE, DROP, ALTER, and TRUNCATE are used with an example.'''\n",
    "'''Answer-Data Definition Language (DDL) is a subset of SQL. It is a language for describing data and its \n",
    "relationships in a database. You can generate DDL in a script for database objects to: Keep a snapshot of\n",
    "the database structure. Set up a test system where the database acts like the production system but contains\n",
    "no data.\n",
    "CREATE-The CREATE TABLE statement is used to create a new table in a database.\n",
    "Ex-CREATE TABLE table_name (\n",
    "    column1 datatype,\n",
    "    column2 datatype,\n",
    "    column3 datatype,\n",
    "   ....\n",
    ");\n",
    "DROP-The DROP TABLE statement is used to drop an existing table in a database.\n",
    "Ex-DROP TABLE table_name;\n",
    "\n",
    "ALTER-The ALTER TABLE statement is used to add, delete, or modify columns in an existing table.\n",
    "ex-ALTER TABLE Customers\n",
    "ADD Email varchar(255);\n",
    "\n",
    "TRUNCATE-The TRUNCATE TABLE command deletes the data inside a table, but not the table itself.\n",
    "TRUNCATE TABLE Table_Name;'''\n"
   ]
  },
  {
   "cell_type": "code",
   "execution_count": null,
   "id": "b8a1ac73-08bb-4688-a998-b64633d29170",
   "metadata": {},
   "outputs": [],
   "source": [
    "'''Q3. What is DML? Explain INSERT, UPDATE, and DELETE with an example.\n",
    "A data manipulation language is a computer programming language used for adding, deleting, and \n",
    "modifying data in a database. A DML is often a sublanguage of a broader database language such as SQL,\n",
    "with the DML comprising some of the operators in the language\n",
    "INSERT-INSERT command is used to insert data into table.\n",
    "Ex-INSERT INTO table_name (column1, column2, column3, ...)\n",
    "VALUES (value1, value2, value3, ...);\n",
    "\n",
    "UPDATE-The UPDATE statement is used to modify the existing records in a table.\n",
    "Ex-UPDATE table_name\n",
    "SET column1 = value1, column2 = value2, ...\n",
    "WHERE condition;\n",
    "\n",
    "DELETE-The DELETE statement is used to delete existing records in a table.\n",
    "Ex-DELETE FROM table_name WHERE condition;'''\n"
   ]
  },
  {
   "cell_type": "code",
   "execution_count": null,
   "id": "9fca2ccc-d05e-4252-b342-c44117722ab7",
   "metadata": {},
   "outputs": [],
   "source": [
    "'''Q4. What is DQL? Explain SELECT with an example.\n",
    "Data query language is part of the base grouping of SQL sub-languages. These sub-languages are mainly \n",
    "categorized into four categories: a data query language, a data definition language, a data control \n",
    "language, and a data manipulation language.\n",
    "The SELECT statement is used to select data from a database. The data returned is stored in a result \n",
    "table, called the result-set.\n",
    "Ex-Select *from table_name;'''"
   ]
  },
  {
   "cell_type": "code",
   "execution_count": null,
   "id": "46e34527-bd7d-4ca2-8102-9b9858dae75e",
   "metadata": {},
   "outputs": [],
   "source": [
    "'''Q5. Explain Primary Key and Foreign Key.\n",
    "Answer-Primary key in a table is uniqly define a row or record that can not be null in any siutation\n",
    "Foreign Key-Foreign key is the reference key of a table that is taken form a primary key\n",
    "The main difference between the primary key and foreign key is foreign key can be null\n",
    "but primary key can't.'''"
   ]
  },
  {
   "cell_type": "code",
   "execution_count": 4,
   "id": "b359688b-127b-494e-aa9a-a6e0020a0a1c",
   "metadata": {},
   "outputs": [
    {
     "name": "stdout",
     "output_type": "stream",
     "text": [
      "Collecting mysql-connector\n",
      "  Downloading mysql-connector-2.2.9.tar.gz (11.9 MB)\n",
      "\u001b[2K     \u001b[90m━━━━━━━━━━━━━━━━━━━━━━━━━━━━━━━━━━━━━━━━\u001b[0m \u001b[32m11.9/11.9 MB\u001b[0m \u001b[31m70.5 MB/s\u001b[0m eta \u001b[36m0:00:00\u001b[0m00:01\u001b[0m0:01\u001b[0m\n",
      "\u001b[?25h  Preparing metadata (setup.py) ... \u001b[?25ldone\n",
      "\u001b[?25hBuilding wheels for collected packages: mysql-connector\n",
      "  Building wheel for mysql-connector (setup.py) ... \u001b[?25ldone\n",
      "\u001b[?25h  Created wheel for mysql-connector: filename=mysql_connector-2.2.9-cp310-cp310-linux_x86_64.whl size=247951 sha256=5523c9b4f5f085654ae5307f417186bfe2cc35f3d7f015c5b46ae88acd2496b3\n",
      "  Stored in directory: /home/jovyan/.cache/pip/wheels/3e/7f/a3/928a40d1ffd01dd16057f308042377afc505d56145375adf40\n",
      "Successfully built mysql-connector\n",
      "Installing collected packages: mysql-connector\n",
      "Successfully installed mysql-connector-2.2.9\n",
      "Note: you may need to restart the kernel to use updated packages.\n"
     ]
    }
   ],
   "source": [
    "pip install mysql-connector\n"
   ]
  },
  {
   "cell_type": "code",
   "execution_count": null,
   "id": "c2c1bb0f-c695-4cc8-8a3f-3ca2e3664a69",
   "metadata": {},
   "outputs": [],
   "source": [
    "'''Q6. Write a python code to connect MySQL to python. Explain the cursor() and execute() method.'''\n",
    "import mysql.connector\n",
    "mydb=mysql.connector.connect(\n",
    "    host=127.0.0.1,\n",
    "  user=\"root\",\n",
    "  password=\"\"\n",
    ")\n",
    "print(mydb)\n",
    "# cursor=mydb.cursor()\n",
    "# cursor.execute(\"CREATE DATABASE MYDB_1\")\n",
    "mydb.close()"
   ]
  },
  {
   "cell_type": "code",
   "execution_count": null,
   "id": "3136c6ab-cc0c-47ac-8974-b6d425da56d8",
   "metadata": {},
   "outputs": [],
   "source": [
    "'''cursor()-It is an object that is used to make the connection for executing SQL queries. \n",
    "It acts as middleware between SQLite database connection and SQL query. It is created after giving \n",
    "connection to SQLite database\n",
    "execute()-This method executes the given database operation (query or command). The parameters found in \n",
    "the tuple or dictionary params are bound to the variables in the operation'''"
   ]
  },
  {
   "cell_type": "code",
   "execution_count": null,
   "id": "c7e4e01a-9143-4fd8-bdda-35e46dcd4468",
   "metadata": {},
   "outputs": [],
   "source": [
    "'''Q7. Give the order of execution of SQL clauses in an SQL query.\n",
    "FROM/JOIN: The FROM and/or JOIN clauses are executed first to determine the data of interest.\n",
    "WHERE: The WHERE clause is executed to filter out records that do not meet the constraints.\n",
    "GROUP BY: The GROUP BY clause is executed to group the data based on the values in one or more columns."
   ]
  }
 ],
 "metadata": {
  "kernelspec": {
   "display_name": "Python 3 (ipykernel)",
   "language": "python",
   "name": "python3"
  },
  "language_info": {
   "codemirror_mode": {
    "name": "ipython",
    "version": 3
   },
   "file_extension": ".py",
   "mimetype": "text/x-python",
   "name": "python",
   "nbconvert_exporter": "python",
   "pygments_lexer": "ipython3",
   "version": "3.10.8"
  }
 },
 "nbformat": 4,
 "nbformat_minor": 5
}
