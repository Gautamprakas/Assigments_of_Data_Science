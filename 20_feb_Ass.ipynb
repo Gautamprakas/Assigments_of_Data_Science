{
 "cells": [
  {
   "cell_type": "code",
   "execution_count": null,
   "id": "cff694d7-5910-47c4-b82e-d579fc1863e1",
   "metadata": {},
   "outputs": [],
   "source": [
    "'''Q1. Explain GET and POST methods.\n",
    "Answer-In GET method we can not send large amount of data rather limited data is sent because the request \n",
    "parameter is appended into the URL. In POST method large amount of data can be sent because the request\n",
    "parameter is appended into the body'''"
   ]
  },
  {
   "cell_type": "code",
   "execution_count": null,
   "id": "dde6c4dc-220d-4e21-b6b8-006a4c13e381",
   "metadata": {},
   "outputs": [],
   "source": [
    "'''Q2. Why is request used in Flask?\n",
    "Answer-The Request, in Flask, is an object that contains all the data sent from the Client to Server. \n",
    "This data can be recovered using the GET/POST Methods'''"
   ]
  },
  {
   "cell_type": "code",
   "execution_count": null,
   "id": "db07a003-4826-472e-8e71-4c8017d433d2",
   "metadata": {},
   "outputs": [],
   "source": [
    "'''Q3. Why is redirect() used in Flask?\n",
    "Answer-Redirection in Flask can be done by returning a redirect response object, created by invoking \n",
    "the redirect() function. The same method is used for redirecting to other routes on the same application\n",
    "and external websites.'''"
   ]
  },
  {
   "cell_type": "code",
   "execution_count": null,
   "id": "fa36ad82-d223-4450-8132-d622e878cadf",
   "metadata": {},
   "outputs": [],
   "source": [
    "'''Q4. What are templates in Flask? Why is the render_template() function used?\n",
    "Answer-Templates are files that contain static data as well as placeholders for dynamic data. A template \n",
    "is rendered with specific data to produce a final document. Flask uses the Jinja template library to render\n",
    "templates. In your application, you will use templates to render HTML which will display in the user's browser\n",
    "\n",
    "Render_template is a Flask function from the flask. templating package. render_template is used to generate \n",
    "output from a template file based on the Jinja2 engine that is found in the application's templates folder.\n",
    "Note that render_template is typically imported directly from the flask package instead of from flask."
   ]
  },
  {
   "cell_type": "code",
   "execution_count": null,
   "id": "ccd3c07e-a301-404f-8c45-7768d3c2d7d9",
   "metadata": {},
   "outputs": [],
   "source": [
    "'''Q5. Create a simple API. Use Postman to test it. Attach the screenshot of the output in the Jupyter\n",
    "Notebook.\n",
    "Answer-'''\n",
    "https://github.com/Gautamprakas/Assigments_of_Data_Science/blob/main/Screenshot%20(37).png\n",
    "click the link above to check image\n",
    "https://green-translator-vqvec.pwskills.app/files/work/Screenshot%20(37).png?_xsrf=2%7C7ad6979d%7Cb4ca3c34f83da031aca3c1c1a6faa56d%7C1676356424"
   ]
  }
 ],
 "metadata": {
  "kernelspec": {
   "display_name": "Python 3 (ipykernel)",
   "language": "python",
   "name": "python3"
  },
  "language_info": {
   "codemirror_mode": {
    "name": "ipython",
    "version": 3
   },
   "file_extension": ".py",
   "mimetype": "text/x-python",
   "name": "python",
   "nbconvert_exporter": "python",
   "pygments_lexer": "ipython3",
   "version": "3.10.8"
  }
 },
 "nbformat": 4,
 "nbformat_minor": 5
}
