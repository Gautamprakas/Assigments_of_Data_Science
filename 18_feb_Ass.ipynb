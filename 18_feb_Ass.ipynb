{
 "cells": [
  {
   "cell_type": "code",
   "execution_count": null,
   "id": "8aa889ae-c3de-4715-a16c-8078e72984cf",
   "metadata": {},
   "outputs": [],
   "source": [
    "'''Q1. What is an API? Give an example, where an API is used in real life.\n",
    "Answer-An application programming interface is a way for two or more computer programs to communicate with \n",
    "each other. It is a type of software interface, \n",
    "offering a service to other pieces of software. A document or standard that describes how to build or\n",
    "use such a connection or interface is called an API specification.\n",
    "example, the weather bureau's software system contains daily weather data. The weather app on your phone \n",
    "“talks” to this system via APIs and shows you daily weather updates on your phone.\n",
    "API in real life-APIs are used by retail companies to connect with courier networks, ensuring that \n",
    "shipments are picked up as soon as possible and tracked as they move."
   ]
  },
  {
   "cell_type": "code",
   "execution_count": null,
   "id": "84c09186-e5e8-45b2-9242-a76605f2274a",
   "metadata": {},
   "outputs": [],
   "source": [
    "'''Q2. Give advantages and disadvantages of using API.\n",
    "Answer-\n",
    "Advantages of an API-Applications: Access to APIs ensures more flexibility in information-transfer processes.\n",
    "Reach: APIs let you create layers in apps in order to distribute information to different audiences.\n",
    "Customization: Furthermore, it can serve as a solution to create different experiences for users, letting protocols, functions, and commands be adapted according to specific demands.\n",
    "Efficiency: When you have content that is automatically published and made available on different channels simultaneously, APIs allow for more efficient data distribution.\n",
    "Adaptability: One of the greatest benefits of APIs is the ability it has to adapt to changes through data migration and flexibility of services.\n",
    "Disadvantages of an API-Creating API is a very time-consuming process.\n",
    "A fixed scale is necessary.\n",
    "Imprecise boundary delineation.\n",
    "To create API, programming knowledge is necessary.\n",
    "Maintenance cost is very high.\n",
    "It can crash when testing API."
   ]
  },
  {
   "cell_type": "code",
   "execution_count": null,
   "id": "d2dc6f11-cbcd-445d-bc68-075490c62280",
   "metadata": {},
   "outputs": [],
   "source": [
    "'''Q3. What is a Web API? Differentiate between API and Web API.4\n",
    "Answer-A web API is an application programming interface for either a web server or a web browser. It is a\n",
    "web development concept, usually limited to a web application's client-side, and thus usually does .\n",
    "diff between APi and Web API-Both APIs and web services are technologies that enable the transfer of data \n",
    "between separate software applications. API is an interface that exposes an application's data to outside \n",
    "software, whereas web applications are one type of API with stricter requirements."
   ]
  },
  {
   "cell_type": "code",
   "execution_count": null,
   "id": "5c071de1-f7e4-497c-bcf7-e577265520f6",
   "metadata": {},
   "outputs": [],
   "source": [
    "'''Q4. Explain REST and SOAP Architecture. Mention shortcomings of SOAP.\n",
    "Answer-Representational state transfer (REST) is a set of architectural principles. Simple object access\n",
    "protocol (SOAP) is an official protocol maintained by the World Wide Web Consortium (W3C). The main \n",
    "difference is that SOAP is a protocol while REST is not.\n",
    "A true REST is effectively an implementation of Resource-Oriented architecture and not a pure \n",
    "technology decision'''"
   ]
  },
  {
   "cell_type": "code",
   "execution_count": null,
   "id": "6239e6fb-3240-455c-a218-67c77b460ca1",
   "metadata": {},
   "outputs": [],
   "source": [
    "'''Q5. Differentiate between REST and SOAP.\n",
    "Answer-"
   ]
  }
 ],
 "metadata": {
  "kernelspec": {
   "display_name": "Python 3 (ipykernel)",
   "language": "python",
   "name": "python3"
  },
  "language_info": {
   "codemirror_mode": {
    "name": "ipython",
    "version": 3
   },
   "file_extension": ".py",
   "mimetype": "text/x-python",
   "name": "python",
   "nbconvert_exporter": "python",
   "pygments_lexer": "ipython3",
   "version": "3.10.8"
  }
 },
 "nbformat": 4,
 "nbformat_minor": 5
}
