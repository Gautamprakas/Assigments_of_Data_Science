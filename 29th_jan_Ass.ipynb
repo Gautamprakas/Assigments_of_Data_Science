{
 "cells": [
  {
   "cell_type": "code",
   "execution_count": null,
   "id": "359b0b42-95cc-43a3-9db5-f06a3b583d22",
   "metadata": {},
   "outputs": [],
   "source": [
    "'''Q1.Who developed python programming language?\n",
    "Answer-Guido van Rossum'''"
   ]
  },
  {
   "cell_type": "code",
   "execution_count": null,
   "id": "8096d91e-9023-4007-beaa-e01ae05497d6",
   "metadata": {},
   "outputs": [],
   "source": [
    "'''Q2.Which type of programming does python support?\n",
    "Ans-Python is a multi-paradigm programming language. Object-oriented programming and structured programming are fully \n",
    "supported, and many of their features support functional programming and aspect-oriented programming (including \n",
    "metaprogramming and metaobjects).'''\n"
   ]
  },
  {
   "cell_type": "code",
   "execution_count": 1,
   "id": "5981be2e-cf70-4d04-a014-99ca2a240851",
   "metadata": {},
   "outputs": [
    {
     "data": {
      "text/plain": [
       "'Answer 3-Yes python is a case sensitive language'"
      ]
     },
     "execution_count": 1,
     "metadata": {},
     "output_type": "execute_result"
    }
   ],
   "source": [
    "'''Answer 3-Yes python is a case sensitive language'''"
   ]
  },
  {
   "cell_type": "code",
   "execution_count": 2,
   "id": "dbe1879d-de45-4c80-8a7c-22c8a859a8f1",
   "metadata": {},
   "outputs": [
    {
     "data": {
      "text/plain": [
       "'Answer-4-.py is the correct extension for python file'"
      ]
     },
     "execution_count": 2,
     "metadata": {},
     "output_type": "execute_result"
    }
   ],
   "source": [
    "'''Answer-4-.py is the correct extension for python file'''"
   ]
  },
  {
   "cell_type": "code",
   "execution_count": 3,
   "id": "398efcd7-b161-4a2f-a9fa-c27350f1dd2b",
   "metadata": {},
   "outputs": [
    {
     "data": {
      "text/plain": [
       "'Answer-5-python is inerpreted language'"
      ]
     },
     "execution_count": 3,
     "metadata": {},
     "output_type": "execute_result"
    }
   ],
   "source": [
    "'''Answer-5-python is inerpreted language'''"
   ]
  },
  {
   "cell_type": "code",
   "execution_count": 4,
   "id": "6cf821cd-15c3-49b7-a4d7-2a65029ff186",
   "metadata": {},
   "outputs": [
    {
     "name": "stdout",
     "output_type": "stream",
     "text": [
      "20\n"
     ]
    }
   ],
   "source": [
    "'''Answer 6-'''\n",
    "x=10\n",
    "y=10\n",
    "print(x+y)\n"
   ]
  },
  {
   "cell_type": "code",
   "execution_count": 5,
   "id": "f5d9b2c4-0520-4084-8d47-d35894f7a600",
   "metadata": {},
   "outputs": [
    {
     "data": {
      "text/plain": [
       "'Answer 7'"
      ]
     },
     "execution_count": 5,
     "metadata": {},
     "output_type": "execute_result"
    }
   ],
   "source": [
    "'''Answer 7'''\n",
    "#That was a single line comment in python"
   ]
  },
  {
   "cell_type": "code",
   "execution_count": 11,
   "id": "82e30005-29d5-45d1-8dfc-e4fe8cd97c34",
   "metadata": {},
   "outputs": [
    {
     "data": {
      "text/plain": [
       "'3.10.8'"
      ]
     },
     "execution_count": 11,
     "metadata": {},
     "output_type": "execute_result"
    }
   ],
   "source": [
    "'''Answer 8'''\n",
    "from platform import python_version\n",
    "python_version()\n"
   ]
  },
  {
   "cell_type": "code",
   "execution_count": null,
   "id": "6ff3c4f1-676c-4397-b7c2-2c6e359b2c1c",
   "metadata": {},
   "outputs": [],
   "source": [
    "'''Answer 9\n",
    "Python supports to make anonymous functions which are not bound to a name(@ runtime). It uses a construct called \n",
    "\"lambda\"'''\n"
   ]
  },
  {
   "cell_type": "code",
   "execution_count": null,
   "id": "ebfb1770-9640-474e-a0e2-6b27d265b81d",
   "metadata": {},
   "outputs": [],
   "source": [
    "'''Answer 10\n",
    "Developed in 2008, pip (an acronym of “pip Install Packages”) is today the standard tool for installing Python packages\n",
    "and their dependencies in a secure manner'''"
   ]
  },
  {
   "cell_type": "code",
   "execution_count": null,
   "id": "ea3029fc-557a-472c-99aa-ff470a112e9b",
   "metadata": {},
   "outputs": [],
   "source": [
    "'''Answer 11\n",
    "len()\n",
    "sort()\n",
    "range()\n",
    "str()\n",
    "int()'''\n"
   ]
  },
  {
   "cell_type": "code",
   "execution_count": null,
   "id": "24550707-60bd-4b20-82d9-88ac5d056c58",
   "metadata": {},
   "outputs": [],
   "source": [
    "'''Answer 12\n",
    "An identifier can have a maximum length of 79 characters in Python. Python is one of the most popular programming \n",
    "languages.'''"
   ]
  },
  {
   "cell_type": "code",
   "execution_count": null,
   "id": "b2a91838-8dd3-40c0-953d-078cff6a240a",
   "metadata": {},
   "outputs": [],
   "source": [
    "'''Answer 13\n",
    "The benefits of python are\n",
    "Data science.\n",
    "Scientific and mathematical computing.\n",
    "Web development.\n",
    "Finance and trading.\n",
    "System automation and administration.\n",
    "Computer graphics.\n",
    "Basic game development.\n",
    "Security and penetration testing.'''"
   ]
  },
  {
   "cell_type": "code",
   "execution_count": null,
   "id": "b649b15d-501f-4998-91fa-3c0066adf9ee",
   "metadata": {},
   "outputs": [],
   "source": [
    "'''Answer 15\n",
    "Few step follows python installation in windows:\n",
    "Go on any browser and search for python \n",
    "After downloading it .exe file click on install.\n",
    "and set the path variable while installation\n",
    "Right-clicking This PC and going to Properties.\n",
    "\n",
    "Clicking on the Advanced system settings in the menu on the left.\n",
    "\n",
    "Clicking on the Environment Variables button o​n the bottom right.\n",
    "\n",
    "In the System variables section, selecting the Path variable and clicking on Edit. The next screen will show all the directories that are currently a part of the PATH variable.\n",
    "\n",
    "Clicking on New and entering Python’s install directory.'''"
   ]
  },
  {
   "cell_type": "code",
   "execution_count": null,
   "id": "bcf5c0d8-ff61-47da-9280-6aac56af29f9",
   "metadata": {},
   "outputs": [],
   "source": [
    "'''Answer 16\n",
    "Yes identai"
   ]
  }
 ],
 "metadata": {
  "kernelspec": {
   "display_name": "Python 3 (ipykernel)",
   "language": "python",
   "name": "python3"
  },
  "language_info": {
   "codemirror_mode": {
    "name": "ipython",
    "version": 3
   },
   "file_extension": ".py",
   "mimetype": "text/x-python",
   "name": "python",
   "nbconvert_exporter": "python",
   "pygments_lexer": "ipython3",
   "version": "3.10.8"
  }
 },
 "nbformat": 4,
 "nbformat_minor": 5
}
