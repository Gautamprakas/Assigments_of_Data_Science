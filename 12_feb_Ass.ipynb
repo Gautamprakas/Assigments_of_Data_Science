{
 "cells": [
  {
   "cell_type": "code",
   "execution_count": null,
   "id": "b0dc9d3e-a599-47b8-954a-485032880e35",
   "metadata": {},
   "outputs": [],
   "source": [
    "'''Q1. What is an Exception in pthon? Write the differen between Exceptions and syntax errors?\n",
    "Ansewer-An exception is an event, which occurs during the execution of a program that disrupts the\n",
    "normal flow of the program's instructions. In general, when a Python script encounters a situation that it\n",
    "cannot cope with, it raises an exception. An exception is a Python object that represents an error.\n",
    "Difference-Both errors and exceptions are a type of runtime error, which means they occur during the \n",
    "execution of a program. In simple words, the error is a critical issue that a normal application should not\n",
    "catch, while an exception is a condition that a program should catch."
   ]
  },
  {
   "cell_type": "code",
   "execution_count": 1,
   "id": "65a0af29-5d20-47a7-ab0e-4a0cd0349bfb",
   "metadata": {},
   "outputs": [
    {
     "ename": "ZeroDivisionError",
     "evalue": "division by zero",
     "output_type": "error",
     "traceback": [
      "\u001b[0;31m---------------------------------------------------------------------------\u001b[0m",
      "\u001b[0;31mZeroDivisionError\u001b[0m                         Traceback (most recent call last)",
      "Cell \u001b[0;32mIn[1], line 6\u001b[0m\n\u001b[1;32m      1\u001b[0m \u001b[38;5;124;03m'''Q2. What happened when exeption is not handelled?Wxample\u001b[39;00m\n\u001b[1;32m      2\u001b[0m \u001b[38;5;124;03mAnswer-If an exception is not caught (with a catch block), the runtime system will abort the program \u001b[39;00m\n\u001b[1;32m      3\u001b[0m \u001b[38;5;124;03m(i.e. crash) and an exception message will print to the console.\u001b[39;00m\n\u001b[1;32m      4\u001b[0m \u001b[38;5;124;03mIf an exception is not handled then it shows an run time error.'''\u001b[39;00m\n\u001b[1;32m      5\u001b[0m a,b\u001b[38;5;241m=\u001b[39m\u001b[38;5;241m10\u001b[39m,\u001b[38;5;241m0\u001b[39m\n\u001b[0;32m----> 6\u001b[0m \u001b[38;5;28mprint\u001b[39m(\u001b[43ma\u001b[49m\u001b[38;5;241;43m/\u001b[39;49m\u001b[43mb\u001b[49m)\n",
      "\u001b[0;31mZeroDivisionError\u001b[0m: division by zero"
     ]
    }
   ],
   "source": [
    "'''Q2. What happened when exeption is not handelled?Wxample\n",
    "Answer-If an exception is not caught (with a catch block), the runtime system will abort the program \n",
    "(i.e. crash) and an exception message will print to the console.\n",
    "If an exception is not handled then it shows an run time error.'''\n",
    "a,b=10,0\n",
    "print(a/b)"
   ]
  },
  {
   "cell_type": "code",
   "execution_count": 2,
   "id": "6652cb11-bc2f-462b-8481-36a764f59ee7",
   "metadata": {},
   "outputs": [
    {
     "name": "stdout",
     "output_type": "stream",
     "text": [
      "division by zero\n"
     ]
    }
   ],
   "source": [
    "'''Answer 3-try and catch statements are used in python to handle or catch the exception\n",
    "Example'''\n",
    "a,b=10,0\n",
    "try:\n",
    "    print(a/b)\n",
    "except Exception as e:\n",
    "    print(e)"
   ]
  },
  {
   "cell_type": "code",
   "execution_count": 9,
   "id": "c47f1eaf-30ac-484b-a775-ddb4c78e2dea",
   "metadata": {},
   "outputs": [
    {
     "name": "stdout",
     "output_type": "stream",
     "text": [
      "1.0\n",
      "except block not executed succesfully\n"
     ]
    }
   ],
   "source": [
    "'''Answer 4:'''\n",
    "a,b=10,10\n",
    "try:\n",
    "    print(a/b)\n",
    "except Exception as e:\n",
    "    print(e)\n",
    "else:\n",
    "    print(\"except block not executed succesfully\")"
   ]
  },
  {
   "cell_type": "code",
   "execution_count": 13,
   "id": "14a4ec55-d2c2-44ea-b7dc-a4c8051e06a1",
   "metadata": {},
   "outputs": [
    {
     "name": "stdout",
     "output_type": "stream",
     "text": [
      "2.0\n",
      "in the finally block\n"
     ]
    }
   ],
   "source": [
    "'''finally-this block of code is execute either error occured or not'''\n",
    "a,b=10,5\n",
    "try:\n",
    "    print(a/b)\n",
    "finally:\n",
    "    print(\"In the finally block\")"
   ]
  },
  {
   "cell_type": "code",
   "execution_count": 15,
   "id": "64c962c4-741b-4a72-b24e-5f6a0f0be3af",
   "metadata": {},
   "outputs": [
    {
     "ename": "Exception",
     "evalue": "The number should not be integer",
     "output_type": "error",
     "traceback": [
      "\u001b[0;31m---------------------------------------------------------------------------\u001b[0m",
      "\u001b[0;31mException\u001b[0m                                 Traceback (most recent call last)",
      "Cell \u001b[0;32mIn[15], line 5\u001b[0m\n\u001b[1;32m      3\u001b[0m a\u001b[38;5;241m=\u001b[39m\u001b[38;5;241m10\u001b[39m\n\u001b[1;32m      4\u001b[0m \u001b[38;5;28;01mif\u001b[39;00m a\u001b[38;5;241m%\u001b[39m\u001b[38;5;241m2\u001b[39m\u001b[38;5;241m==\u001b[39m\u001b[38;5;241m0\u001b[39m:\n\u001b[0;32m----> 5\u001b[0m     \u001b[38;5;28;01mraise\u001b[39;00m \u001b[38;5;167;01mException\u001b[39;00m(\u001b[38;5;124m\"\u001b[39m\u001b[38;5;124mThe number should not be integer\u001b[39m\u001b[38;5;124m\"\u001b[39m)\n",
      "\u001b[0;31mException\u001b[0m: The number should not be integer"
     ]
    }
   ],
   "source": [
    "'''raise-Is used to raise an exception or error'''\n",
    "\n",
    "a=10\n",
    "if a%2==0:\n",
    "    raise Exception(\"The number should not be integer\")"
   ]
  },
  {
   "cell_type": "code",
   "execution_count": 17,
   "id": "752cd140-0f22-4a70-8cbd-148ac254d332",
   "metadata": {},
   "outputs": [
    {
     "name": "stdout",
     "output_type": "stream",
     "text": [
      "some error occured 6\n"
     ]
    }
   ],
   "source": [
    "'''Answer -5\n",
    "Custom exception-In Python, we can define custom exceptions by creating a new class that is derived from \n",
    "the built-in Exception class. Here's the syntax to define custom exceptions, class CustomError(Exception)\n",
    ": ... pass try: ... except CustomError:\n",
    "why we use-Built-in exceptions offer information about Python-related problems, and custom exceptions \n",
    "will add information about project-related problems. That way, you can design your code (and traceback, \n",
    "if an exception is raised) in a way that combines Python code with the language of the project\n",
    "Example'''\n",
    "class myException(Exception):\n",
    "    def __init__(self,value):\n",
    "        self.value=value\n",
    "    def __str__(self):\n",
    "        return self.value\n",
    "try:\n",
    "    raise myException(3*2)\n",
    "except myException as e:\n",
    "    print(\"some error occured\",e.value)"
   ]
  },
  {
   "cell_type": "code",
   "execution_count": null,
   "id": "8efb296f-4d54-47c0-b5ad-3aa4bf6ee530",
   "metadata": {},
   "outputs": [],
   "source": [
    "'''Answer 6\n",
    "\n"
   ]
  }
 ],
 "metadata": {
  "kernelspec": {
   "display_name": "Python 3 (ipykernel)",
   "language": "python",
   "name": "python3"
  },
  "language_info": {
   "codemirror_mode": {
    "name": "ipython",
    "version": 3
   },
   "file_extension": ".py",
   "mimetype": "text/x-python",
   "name": "python",
   "nbconvert_exporter": "python",
   "pygments_lexer": "ipython3",
   "version": "3.10.8"
  }
 },
 "nbformat": 4,
 "nbformat_minor": 5
}
